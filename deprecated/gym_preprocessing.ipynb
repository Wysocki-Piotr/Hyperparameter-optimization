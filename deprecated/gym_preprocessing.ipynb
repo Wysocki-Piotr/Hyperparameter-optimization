{
 "cells": [
  {
   "cell_type": "code",
   "execution_count": 1,
   "id": "84e95915",
   "metadata": {
    "ExecuteTime": {
     "end_time": "2025-10-16T09:16:03.765959200Z",
     "start_time": "2025-10-16T09:16:03.362387500Z"
    }
   },
   "outputs": [],
   "source": [
    "import numpy as np\n",
    "import pandas as pd"
   ]
  },
  {
   "cell_type": "code",
   "execution_count": 2,
   "id": "c0aeb5b3",
   "metadata": {
    "ExecuteTime": {
     "end_time": "2025-10-16T09:16:03.803906300Z",
     "start_time": "2025-10-16T09:16:03.768155300Z"
    }
   },
   "outputs": [
    {
     "data": {
      "text/plain": "   Age  Gender  Weight (kg)  Height (m)  Max_BPM  Avg_BPM  Resting_BPM  \\\n0   56    Male         88.3        1.71      180      157           60   \n1   46  Female         74.9        1.53      179      151           66   \n2   32  Female         68.1        1.66      167      122           54   \n3   25    Male         53.2        1.70      190      164           56   \n4   38    Male         46.1        1.79      188      158           68   \n\n   Session_Duration (hours)  Calories_Burned Workout_Type  Fat_Percentage  \\\n0                      1.69           1313.0         Yoga            12.6   \n1                      1.30            883.0         HIIT            33.9   \n2                      1.11            677.0       Cardio            33.4   \n3                      0.59            532.0     Strength            28.8   \n4                      0.64            556.0     Strength            29.2   \n\n   Water_Intake (liters)  Workout_Frequency (days/week)  Experience_Level  \\\n0                    3.5                              4                 3   \n1                    2.1                              4                 2   \n2                    2.3                              4                 2   \n3                    2.1                              3                 1   \n4                    2.8                              3                 1   \n\n     BMI  \n0  30.20  \n1  32.00  \n2  24.71  \n3  18.41  \n4  14.39  ",
      "text/html": "<div>\n<style scoped>\n    .dataframe tbody tr th:only-of-type {\n        vertical-align: middle;\n    }\n\n    .dataframe tbody tr th {\n        vertical-align: top;\n    }\n\n    .dataframe thead th {\n        text-align: right;\n    }\n</style>\n<table border=\"1\" class=\"dataframe\">\n  <thead>\n    <tr style=\"text-align: right;\">\n      <th></th>\n      <th>Age</th>\n      <th>Gender</th>\n      <th>Weight (kg)</th>\n      <th>Height (m)</th>\n      <th>Max_BPM</th>\n      <th>Avg_BPM</th>\n      <th>Resting_BPM</th>\n      <th>Session_Duration (hours)</th>\n      <th>Calories_Burned</th>\n      <th>Workout_Type</th>\n      <th>Fat_Percentage</th>\n      <th>Water_Intake (liters)</th>\n      <th>Workout_Frequency (days/week)</th>\n      <th>Experience_Level</th>\n      <th>BMI</th>\n    </tr>\n  </thead>\n  <tbody>\n    <tr>\n      <th>0</th>\n      <td>56</td>\n      <td>Male</td>\n      <td>88.3</td>\n      <td>1.71</td>\n      <td>180</td>\n      <td>157</td>\n      <td>60</td>\n      <td>1.69</td>\n      <td>1313.0</td>\n      <td>Yoga</td>\n      <td>12.6</td>\n      <td>3.5</td>\n      <td>4</td>\n      <td>3</td>\n      <td>30.20</td>\n    </tr>\n    <tr>\n      <th>1</th>\n      <td>46</td>\n      <td>Female</td>\n      <td>74.9</td>\n      <td>1.53</td>\n      <td>179</td>\n      <td>151</td>\n      <td>66</td>\n      <td>1.30</td>\n      <td>883.0</td>\n      <td>HIIT</td>\n      <td>33.9</td>\n      <td>2.1</td>\n      <td>4</td>\n      <td>2</td>\n      <td>32.00</td>\n    </tr>\n    <tr>\n      <th>2</th>\n      <td>32</td>\n      <td>Female</td>\n      <td>68.1</td>\n      <td>1.66</td>\n      <td>167</td>\n      <td>122</td>\n      <td>54</td>\n      <td>1.11</td>\n      <td>677.0</td>\n      <td>Cardio</td>\n      <td>33.4</td>\n      <td>2.3</td>\n      <td>4</td>\n      <td>2</td>\n      <td>24.71</td>\n    </tr>\n    <tr>\n      <th>3</th>\n      <td>25</td>\n      <td>Male</td>\n      <td>53.2</td>\n      <td>1.70</td>\n      <td>190</td>\n      <td>164</td>\n      <td>56</td>\n      <td>0.59</td>\n      <td>532.0</td>\n      <td>Strength</td>\n      <td>28.8</td>\n      <td>2.1</td>\n      <td>3</td>\n      <td>1</td>\n      <td>18.41</td>\n    </tr>\n    <tr>\n      <th>4</th>\n      <td>38</td>\n      <td>Male</td>\n      <td>46.1</td>\n      <td>1.79</td>\n      <td>188</td>\n      <td>158</td>\n      <td>68</td>\n      <td>0.64</td>\n      <td>556.0</td>\n      <td>Strength</td>\n      <td>29.2</td>\n      <td>2.8</td>\n      <td>3</td>\n      <td>1</td>\n      <td>14.39</td>\n    </tr>\n  </tbody>\n</table>\n</div>"
     },
     "execution_count": 2,
     "metadata": {},
     "output_type": "execute_result"
    }
   ],
   "source": [
    "gym = pd.read_csv(\"Datasets/gym_members_exercise_tracking.csv\")\n",
    "gym.head()"
   ]
  },
  {
   "cell_type": "code",
   "execution_count": 3,
   "id": "dd09ebdc",
   "metadata": {
    "ExecuteTime": {
     "end_time": "2025-10-16T09:16:03.870818100Z",
     "start_time": "2025-10-16T09:16:03.800428900Z"
    }
   },
   "outputs": [
    {
     "name": "stdout",
     "output_type": "stream",
     "text": [
      "<class 'pandas.core.frame.DataFrame'>\n",
      "RangeIndex: 973 entries, 0 to 972\n",
      "Data columns (total 15 columns):\n",
      " #   Column                         Non-Null Count  Dtype  \n",
      "---  ------                         --------------  -----  \n",
      " 0   Age                            973 non-null    int64  \n",
      " 1   Gender                         973 non-null    object \n",
      " 2   Weight (kg)                    973 non-null    float64\n",
      " 3   Height (m)                     973 non-null    float64\n",
      " 4   Max_BPM                        973 non-null    int64  \n",
      " 5   Avg_BPM                        973 non-null    int64  \n",
      " 6   Resting_BPM                    973 non-null    int64  \n",
      " 7   Session_Duration (hours)       973 non-null    float64\n",
      " 8   Calories_Burned                973 non-null    float64\n",
      " 9   Workout_Type                   973 non-null    object \n",
      " 10  Fat_Percentage                 973 non-null    float64\n",
      " 11  Water_Intake (liters)          973 non-null    float64\n",
      " 12  Workout_Frequency (days/week)  973 non-null    int64  \n",
      " 13  Experience_Level               973 non-null    int64  \n",
      " 14  BMI                            973 non-null    float64\n",
      "dtypes: float64(7), int64(6), object(2)\n",
      "memory usage: 114.2+ KB\n"
     ]
    },
    {
     "data": {
      "text/plain": "              Age  Weight (kg)  Height (m)     Max_BPM     Avg_BPM  \\\ncount  973.000000   973.000000   973.00000  973.000000  973.000000   \nmean    38.683453    73.854676     1.72258  179.883864  143.766701   \nstd     12.180928    21.207500     0.12772   11.525686   14.345101   \nmin     18.000000    40.000000     1.50000  160.000000  120.000000   \n25%     28.000000    58.100000     1.62000  170.000000  131.000000   \n50%     40.000000    70.000000     1.71000  180.000000  143.000000   \n75%     49.000000    86.000000     1.80000  190.000000  156.000000   \nmax     59.000000   129.900000     2.00000  199.000000  169.000000   \n\n       Resting_BPM  Session_Duration (hours)  Calories_Burned  Fat_Percentage  \\\ncount   973.000000                973.000000       973.000000      973.000000   \nmean     62.223022                  1.256423       905.422405       24.976773   \nstd       7.327060                  0.343033       272.641516        6.259419   \nmin      50.000000                  0.500000       303.000000       10.000000   \n25%      56.000000                  1.040000       720.000000       21.300000   \n50%      62.000000                  1.260000       893.000000       26.200000   \n75%      68.000000                  1.460000      1076.000000       29.300000   \nmax      74.000000                  2.000000      1783.000000       35.000000   \n\n       Water_Intake (liters)  Workout_Frequency (days/week)  Experience_Level  \\\ncount             973.000000                     973.000000        973.000000   \nmean                2.626619                       3.321686          1.809866   \nstd                 0.600172                       0.913047          0.739693   \nmin                 1.500000                       2.000000          1.000000   \n25%                 2.200000                       3.000000          1.000000   \n50%                 2.600000                       3.000000          2.000000   \n75%                 3.100000                       4.000000          2.000000   \nmax                 3.700000                       5.000000          3.000000   \n\n              BMI  \ncount  973.000000  \nmean    24.912127  \nstd      6.660879  \nmin     12.320000  \n25%     20.110000  \n50%     24.160000  \n75%     28.560000  \nmax     49.840000  ",
      "text/html": "<div>\n<style scoped>\n    .dataframe tbody tr th:only-of-type {\n        vertical-align: middle;\n    }\n\n    .dataframe tbody tr th {\n        vertical-align: top;\n    }\n\n    .dataframe thead th {\n        text-align: right;\n    }\n</style>\n<table border=\"1\" class=\"dataframe\">\n  <thead>\n    <tr style=\"text-align: right;\">\n      <th></th>\n      <th>Age</th>\n      <th>Weight (kg)</th>\n      <th>Height (m)</th>\n      <th>Max_BPM</th>\n      <th>Avg_BPM</th>\n      <th>Resting_BPM</th>\n      <th>Session_Duration (hours)</th>\n      <th>Calories_Burned</th>\n      <th>Fat_Percentage</th>\n      <th>Water_Intake (liters)</th>\n      <th>Workout_Frequency (days/week)</th>\n      <th>Experience_Level</th>\n      <th>BMI</th>\n    </tr>\n  </thead>\n  <tbody>\n    <tr>\n      <th>count</th>\n      <td>973.000000</td>\n      <td>973.000000</td>\n      <td>973.00000</td>\n      <td>973.000000</td>\n      <td>973.000000</td>\n      <td>973.000000</td>\n      <td>973.000000</td>\n      <td>973.000000</td>\n      <td>973.000000</td>\n      <td>973.000000</td>\n      <td>973.000000</td>\n      <td>973.000000</td>\n      <td>973.000000</td>\n    </tr>\n    <tr>\n      <th>mean</th>\n      <td>38.683453</td>\n      <td>73.854676</td>\n      <td>1.72258</td>\n      <td>179.883864</td>\n      <td>143.766701</td>\n      <td>62.223022</td>\n      <td>1.256423</td>\n      <td>905.422405</td>\n      <td>24.976773</td>\n      <td>2.626619</td>\n      <td>3.321686</td>\n      <td>1.809866</td>\n      <td>24.912127</td>\n    </tr>\n    <tr>\n      <th>std</th>\n      <td>12.180928</td>\n      <td>21.207500</td>\n      <td>0.12772</td>\n      <td>11.525686</td>\n      <td>14.345101</td>\n      <td>7.327060</td>\n      <td>0.343033</td>\n      <td>272.641516</td>\n      <td>6.259419</td>\n      <td>0.600172</td>\n      <td>0.913047</td>\n      <td>0.739693</td>\n      <td>6.660879</td>\n    </tr>\n    <tr>\n      <th>min</th>\n      <td>18.000000</td>\n      <td>40.000000</td>\n      <td>1.50000</td>\n      <td>160.000000</td>\n      <td>120.000000</td>\n      <td>50.000000</td>\n      <td>0.500000</td>\n      <td>303.000000</td>\n      <td>10.000000</td>\n      <td>1.500000</td>\n      <td>2.000000</td>\n      <td>1.000000</td>\n      <td>12.320000</td>\n    </tr>\n    <tr>\n      <th>25%</th>\n      <td>28.000000</td>\n      <td>58.100000</td>\n      <td>1.62000</td>\n      <td>170.000000</td>\n      <td>131.000000</td>\n      <td>56.000000</td>\n      <td>1.040000</td>\n      <td>720.000000</td>\n      <td>21.300000</td>\n      <td>2.200000</td>\n      <td>3.000000</td>\n      <td>1.000000</td>\n      <td>20.110000</td>\n    </tr>\n    <tr>\n      <th>50%</th>\n      <td>40.000000</td>\n      <td>70.000000</td>\n      <td>1.71000</td>\n      <td>180.000000</td>\n      <td>143.000000</td>\n      <td>62.000000</td>\n      <td>1.260000</td>\n      <td>893.000000</td>\n      <td>26.200000</td>\n      <td>2.600000</td>\n      <td>3.000000</td>\n      <td>2.000000</td>\n      <td>24.160000</td>\n    </tr>\n    <tr>\n      <th>75%</th>\n      <td>49.000000</td>\n      <td>86.000000</td>\n      <td>1.80000</td>\n      <td>190.000000</td>\n      <td>156.000000</td>\n      <td>68.000000</td>\n      <td>1.460000</td>\n      <td>1076.000000</td>\n      <td>29.300000</td>\n      <td>3.100000</td>\n      <td>4.000000</td>\n      <td>2.000000</td>\n      <td>28.560000</td>\n    </tr>\n    <tr>\n      <th>max</th>\n      <td>59.000000</td>\n      <td>129.900000</td>\n      <td>2.00000</td>\n      <td>199.000000</td>\n      <td>169.000000</td>\n      <td>74.000000</td>\n      <td>2.000000</td>\n      <td>1783.000000</td>\n      <td>35.000000</td>\n      <td>3.700000</td>\n      <td>5.000000</td>\n      <td>3.000000</td>\n      <td>49.840000</td>\n    </tr>\n  </tbody>\n</table>\n</div>"
     },
     "execution_count": 3,
     "metadata": {},
     "output_type": "execute_result"
    }
   ],
   "source": [
    "gym.info()\n",
    "gym.describe()"
   ]
  },
  {
   "cell_type": "code",
   "execution_count": 4,
   "id": "0193a205",
   "metadata": {
    "ExecuteTime": {
     "end_time": "2025-10-16T09:16:03.893199400Z",
     "start_time": "2025-10-16T09:16:03.829862500Z"
    }
   },
   "outputs": [
    {
     "name": "stdout",
     "output_type": "stream",
     "text": [
      "['Male' 'Female'] ['Yoga' 'HIIT' 'Cardio' 'Strength']\n"
     ]
    }
   ],
   "source": [
    "print(gym['Gender'].unique(),\n",
    "gym['Workout_Type'].unique())"
   ]
  },
  {
   "cell_type": "code",
   "execution_count": 5,
   "id": "2ed35939",
   "metadata": {
    "ExecuteTime": {
     "end_time": "2025-10-16T09:16:03.909129400Z",
     "start_time": "2025-10-16T09:16:03.838282900Z"
    }
   },
   "outputs": [],
   "source": [
    "gym['Gender'] = gym['Gender'].map({'Male': 1, 'Female': 0})\n",
    "gym['Workout_Type'] = gym['Workout_Type'].map({'Yoga': 0, 'HIIT': 1, 'Cardio' : 2, 'Strength' : 3})"
   ]
  },
  {
   "cell_type": "code",
   "execution_count": 6,
   "id": "1bd27edb",
   "metadata": {
    "ExecuteTime": {
     "end_time": "2025-10-16T09:16:03.972131100Z",
     "start_time": "2025-10-16T09:16:03.926450200Z"
    }
   },
   "outputs": [
    {
     "data": {
      "text/plain": "array([3, 2, 1])"
     },
     "execution_count": 6,
     "metadata": {},
     "output_type": "execute_result"
    }
   ],
   "source": [
    "gym['Experience_Level'].unique()"
   ]
  },
  {
   "cell_type": "code",
   "execution_count": 7,
   "id": "16fbe573",
   "metadata": {
    "ExecuteTime": {
     "end_time": "2025-10-16T09:16:04.680638100Z",
     "start_time": "2025-10-16T09:16:04.666486300Z"
    }
   },
   "outputs": [
    {
     "name": "stdout",
     "output_type": "stream",
     "text": [
      "<class 'pandas.core.frame.DataFrame'>\n",
      "RangeIndex: 973 entries, 0 to 972\n",
      "Data columns (total 15 columns):\n",
      " #   Column                         Non-Null Count  Dtype  \n",
      "---  ------                         --------------  -----  \n",
      " 0   Age                            973 non-null    int64  \n",
      " 1   Gender                         973 non-null    int64  \n",
      " 2   Weight (kg)                    973 non-null    float64\n",
      " 3   Height (m)                     973 non-null    float64\n",
      " 4   Max_BPM                        973 non-null    int64  \n",
      " 5   Avg_BPM                        973 non-null    int64  \n",
      " 6   Resting_BPM                    973 non-null    int64  \n",
      " 7   Session_Duration (hours)       973 non-null    float64\n",
      " 8   Calories_Burned                973 non-null    float64\n",
      " 9   Workout_Type                   973 non-null    int64  \n",
      " 10  Fat_Percentage                 973 non-null    float64\n",
      " 11  Water_Intake (liters)          973 non-null    float64\n",
      " 12  Workout_Frequency (days/week)  973 non-null    int64  \n",
      " 13  Experience_Level               973 non-null    int64  \n",
      " 14  BMI                            973 non-null    float64\n",
      "dtypes: float64(7), int64(8)\n",
      "memory usage: 114.2 KB\n"
     ]
    }
   ],
   "source": [
    "gym.info()"
   ]
  },
  {
   "cell_type": "code",
   "execution_count": 8,
   "id": "272ab336",
   "metadata": {
    "ExecuteTime": {
     "end_time": "2025-10-16T09:16:04.898231900Z",
     "start_time": "2025-10-16T09:16:04.880098300Z"
    }
   },
   "outputs": [],
   "source": [
    "X = gym.drop(columns='Experience_Level')\n",
    "y = gym['Experience_Level']\n",
    "\n",
    "X= X.drop(columns=['Workout_Frequency (days/week)','Session_Duration (hours)']) # zbyt duza dokladnosc z tymi cechami\n",
    "\n",
    "X.to_csv(\"preprocessed_datasets/gym_data.csv\", index=False)\n",
    "y.to_csv(\"preprocessed_datasets/gym_target.csv\", index=False)"
   ]
  },
  {
   "cell_type": "code",
   "execution_count": 9,
   "id": "a11bd502",
   "metadata": {
    "ExecuteTime": {
     "end_time": "2025-10-16T09:16:05.285951200Z",
     "start_time": "2025-10-16T09:16:05.280060Z"
    }
   },
   "outputs": [
    {
     "data": {
      "text/plain": "Experience_Level\n2    41.726619\n1    38.643371\n3    19.630010\nName: proportion, dtype: float64"
     },
     "execution_count": 9,
     "metadata": {},
     "output_type": "execute_result"
    }
   ],
   "source": [
    "import pandas as pd\n",
    "y = pd.read_csv(\"preprocessed_datasets/gym_target.csv\").squeeze()\n",
    "\n",
    "y.value_counts(normalize=True) * 100\n",
    "\n"
   ]
  },
  {
   "cell_type": "code",
   "execution_count": 10,
   "id": "6fa94ae6",
   "metadata": {
    "ExecuteTime": {
     "end_time": "2025-10-16T09:16:10.986009600Z",
     "start_time": "2025-10-16T09:16:05.869388100Z"
    }
   },
   "outputs": [
    {
     "name": "stdout",
     "output_type": "stream",
     "text": [
      "0.7191780821917808\n"
     ]
    },
    {
     "data": {
      "text/plain": "                  Feature  Importance\n9          Fat_Percentage    0.283968\n7         Calories_Burned    0.248328\n10  Water_Intake (liters)    0.074151\n2             Weight (kg)    0.063444\n11                    BMI    0.057014\n5                 Avg_BPM    0.054946\n4                 Max_BPM    0.052118\n3              Height (m)    0.050044\n0                     Age    0.048807\n6             Resting_BPM    0.037441\n8            Workout_Type    0.021621\n1                  Gender    0.008119",
      "text/html": "<div>\n<style scoped>\n    .dataframe tbody tr th:only-of-type {\n        vertical-align: middle;\n    }\n\n    .dataframe tbody tr th {\n        vertical-align: top;\n    }\n\n    .dataframe thead th {\n        text-align: right;\n    }\n</style>\n<table border=\"1\" class=\"dataframe\">\n  <thead>\n    <tr style=\"text-align: right;\">\n      <th></th>\n      <th>Feature</th>\n      <th>Importance</th>\n    </tr>\n  </thead>\n  <tbody>\n    <tr>\n      <th>9</th>\n      <td>Fat_Percentage</td>\n      <td>0.283968</td>\n    </tr>\n    <tr>\n      <th>7</th>\n      <td>Calories_Burned</td>\n      <td>0.248328</td>\n    </tr>\n    <tr>\n      <th>10</th>\n      <td>Water_Intake (liters)</td>\n      <td>0.074151</td>\n    </tr>\n    <tr>\n      <th>2</th>\n      <td>Weight (kg)</td>\n      <td>0.063444</td>\n    </tr>\n    <tr>\n      <th>11</th>\n      <td>BMI</td>\n      <td>0.057014</td>\n    </tr>\n    <tr>\n      <th>5</th>\n      <td>Avg_BPM</td>\n      <td>0.054946</td>\n    </tr>\n    <tr>\n      <th>4</th>\n      <td>Max_BPM</td>\n      <td>0.052118</td>\n    </tr>\n    <tr>\n      <th>3</th>\n      <td>Height (m)</td>\n      <td>0.050044</td>\n    </tr>\n    <tr>\n      <th>0</th>\n      <td>Age</td>\n      <td>0.048807</td>\n    </tr>\n    <tr>\n      <th>6</th>\n      <td>Resting_BPM</td>\n      <td>0.037441</td>\n    </tr>\n    <tr>\n      <th>8</th>\n      <td>Workout_Type</td>\n      <td>0.021621</td>\n    </tr>\n    <tr>\n      <th>1</th>\n      <td>Gender</td>\n      <td>0.008119</td>\n    </tr>\n  </tbody>\n</table>\n</div>"
     },
     "execution_count": 10,
     "metadata": {},
     "output_type": "execute_result"
    }
   ],
   "source": [
    "from sklearn.ensemble import RandomForestClassifier\n",
    "from sklearn.model_selection import train_test_split\n",
    "from sklearn.metrics import accuracy_score\n",
    "\n",
    "X = pd.read_csv(\"preprocessed_datasets/gym_data.csv\")\n",
    "y = pd.read_csv(\"preprocessed_datasets/gym_target.csv\").squeeze()\n",
    "\n",
    "X_train, X_test, y_train, y_test = train_test_split(X, y, test_size=0.3, random_state=42)\n",
    "\n",
    "model = RandomForestClassifier()\n",
    "model.fit(X_train, y_train)\n",
    "print(accuracy_score(model.predict(X_test), y_test))\n",
    "\n",
    "feature_importance_df = pd.DataFrame({\n",
    "    'Feature': X.columns,\n",
    "    'Importance': model.feature_importances_\n",
    "})\n",
    "\n",
    "\n",
    "feature_importance_df = feature_importance_df.sort_values(by='Importance', ascending=False)\n",
    "feature_importance_df"
   ]
  },
  {
   "cell_type": "code",
   "execution_count": null,
   "outputs": [],
   "source": [],
   "metadata": {
    "collapsed": false
   },
   "id": "26560bae22fd7249"
  }
 ],
 "metadata": {
  "kernelspec": {
   "display_name": "automl1",
   "language": "python",
   "name": "python3"
  },
  "language_info": {
   "codemirror_mode": {
    "name": "ipython",
    "version": 3
   },
   "file_extension": ".py",
   "mimetype": "text/x-python",
   "name": "python",
   "nbconvert_exporter": "python",
   "pygments_lexer": "ipython3",
   "version": "3.13.0"
  }
 },
 "nbformat": 4,
 "nbformat_minor": 5
}
