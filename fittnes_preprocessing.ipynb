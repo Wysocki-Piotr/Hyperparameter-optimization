{
 "cells": [
  {
   "cell_type": "code",
   "execution_count": 9,
   "id": "initial_id",
   "metadata": {
    "collapsed": true,
    "ExecuteTime": {
     "end_time": "2025-10-16T18:48:48.572584900Z",
     "start_time": "2025-10-16T18:48:48.527760200Z"
    }
   },
   "outputs": [],
   "source": [
    "import pandas as pd\n",
    "import numpy as np"
   ]
  },
  {
   "cell_type": "code",
   "execution_count": 10,
   "outputs": [
    {
     "name": "stdout",
     "output_type": "stream",
     "text": [
      "<class 'pandas.core.frame.DataFrame'>\n",
      "RangeIndex: 2000 entries, 0 to 1999\n",
      "Data columns (total 11 columns):\n",
      " #   Column             Non-Null Count  Dtype  \n",
      "---  ------             --------------  -----  \n",
      " 0   age                2000 non-null   int64  \n",
      " 1   height_cm          2000 non-null   int64  \n",
      " 2   weight_kg          2000 non-null   int64  \n",
      " 3   heart_rate         2000 non-null   float64\n",
      " 4   blood_pressure     2000 non-null   float64\n",
      " 5   sleep_hours        1840 non-null   float64\n",
      " 6   nutrition_quality  2000 non-null   float64\n",
      " 7   activity_index     2000 non-null   float64\n",
      " 8   smokes             2000 non-null   object \n",
      " 9   gender             2000 non-null   object \n",
      " 10  is_fit             2000 non-null   int64  \n",
      "dtypes: float64(5), int64(4), object(2)\n",
      "memory usage: 172.0+ KB\n"
     ]
    }
   ],
   "source": [
    "df = pd.read_csv(\"Datasets/fitness_dataset.csv\")\n",
    "df.info()"
   ],
   "metadata": {
    "collapsed": false,
    "ExecuteTime": {
     "end_time": "2025-10-16T18:48:48.925618100Z",
     "start_time": "2025-10-16T18:48:48.908152600Z"
    }
   },
   "id": "45636177d5a0843c"
  },
  {
   "cell_type": "code",
   "execution_count": 17,
   "outputs": [
    {
     "data": {
      "text/plain": "      age  height_cm  weight_kg  heart_rate  blood_pressure  sleep_hours  \\\n0      56        152         65        69.6           117.0          7.5   \n1      69        186         95        60.8           114.8          7.5   \n2      46        192        103        61.4           116.4          7.5   \n3      32        189         83        60.2           130.1          7.0   \n4      60        175         99        58.1           115.8          8.0   \n...   ...        ...        ...         ...             ...          ...   \n1995   52        173         98        60.7           106.1          7.5   \n1996   61        186         74        51.4           123.8          9.4   \n1997   77        198         89        76.7           103.6          8.3   \n1998   62        190         63        80.7           115.9          6.7   \n1999   51        166         78        89.3           101.8          8.3   \n\n      nutrition_quality  activity_index  smokes gender  is_fit  \n0                  2.37            3.97       0      F       1  \n1                  8.77            3.19       0      F       1  \n2                  8.20            2.03       0      F       0  \n3                  6.18            3.68       0      M       1  \n4                  9.95            4.83       1      F       1  \n...                 ...             ...     ...    ...     ...  \n1995               1.54            3.25       1      M       1  \n1996               8.63            3.15       0      M       1  \n1997               1.98            3.36       1      M       0  \n1998               9.21            2.39       1      F       0  \n1999               4.42            1.02       1      M       0  \n\n[1979 rows x 11 columns]",
      "text/html": "<div>\n<style scoped>\n    .dataframe tbody tr th:only-of-type {\n        vertical-align: middle;\n    }\n\n    .dataframe tbody tr th {\n        vertical-align: top;\n    }\n\n    .dataframe thead th {\n        text-align: right;\n    }\n</style>\n<table border=\"1\" class=\"dataframe\">\n  <thead>\n    <tr style=\"text-align: right;\">\n      <th></th>\n      <th>age</th>\n      <th>height_cm</th>\n      <th>weight_kg</th>\n      <th>heart_rate</th>\n      <th>blood_pressure</th>\n      <th>sleep_hours</th>\n      <th>nutrition_quality</th>\n      <th>activity_index</th>\n      <th>smokes</th>\n      <th>gender</th>\n      <th>is_fit</th>\n    </tr>\n  </thead>\n  <tbody>\n    <tr>\n      <th>0</th>\n      <td>56</td>\n      <td>152</td>\n      <td>65</td>\n      <td>69.6</td>\n      <td>117.0</td>\n      <td>7.5</td>\n      <td>2.37</td>\n      <td>3.97</td>\n      <td>0</td>\n      <td>F</td>\n      <td>1</td>\n    </tr>\n    <tr>\n      <th>1</th>\n      <td>69</td>\n      <td>186</td>\n      <td>95</td>\n      <td>60.8</td>\n      <td>114.8</td>\n      <td>7.5</td>\n      <td>8.77</td>\n      <td>3.19</td>\n      <td>0</td>\n      <td>F</td>\n      <td>1</td>\n    </tr>\n    <tr>\n      <th>2</th>\n      <td>46</td>\n      <td>192</td>\n      <td>103</td>\n      <td>61.4</td>\n      <td>116.4</td>\n      <td>7.5</td>\n      <td>8.20</td>\n      <td>2.03</td>\n      <td>0</td>\n      <td>F</td>\n      <td>0</td>\n    </tr>\n    <tr>\n      <th>3</th>\n      <td>32</td>\n      <td>189</td>\n      <td>83</td>\n      <td>60.2</td>\n      <td>130.1</td>\n      <td>7.0</td>\n      <td>6.18</td>\n      <td>3.68</td>\n      <td>0</td>\n      <td>M</td>\n      <td>1</td>\n    </tr>\n    <tr>\n      <th>4</th>\n      <td>60</td>\n      <td>175</td>\n      <td>99</td>\n      <td>58.1</td>\n      <td>115.8</td>\n      <td>8.0</td>\n      <td>9.95</td>\n      <td>4.83</td>\n      <td>1</td>\n      <td>F</td>\n      <td>1</td>\n    </tr>\n    <tr>\n      <th>...</th>\n      <td>...</td>\n      <td>...</td>\n      <td>...</td>\n      <td>...</td>\n      <td>...</td>\n      <td>...</td>\n      <td>...</td>\n      <td>...</td>\n      <td>...</td>\n      <td>...</td>\n      <td>...</td>\n    </tr>\n    <tr>\n      <th>1995</th>\n      <td>52</td>\n      <td>173</td>\n      <td>98</td>\n      <td>60.7</td>\n      <td>106.1</td>\n      <td>7.5</td>\n      <td>1.54</td>\n      <td>3.25</td>\n      <td>1</td>\n      <td>M</td>\n      <td>1</td>\n    </tr>\n    <tr>\n      <th>1996</th>\n      <td>61</td>\n      <td>186</td>\n      <td>74</td>\n      <td>51.4</td>\n      <td>123.8</td>\n      <td>9.4</td>\n      <td>8.63</td>\n      <td>3.15</td>\n      <td>0</td>\n      <td>M</td>\n      <td>1</td>\n    </tr>\n    <tr>\n      <th>1997</th>\n      <td>77</td>\n      <td>198</td>\n      <td>89</td>\n      <td>76.7</td>\n      <td>103.6</td>\n      <td>8.3</td>\n      <td>1.98</td>\n      <td>3.36</td>\n      <td>1</td>\n      <td>M</td>\n      <td>0</td>\n    </tr>\n    <tr>\n      <th>1998</th>\n      <td>62</td>\n      <td>190</td>\n      <td>63</td>\n      <td>80.7</td>\n      <td>115.9</td>\n      <td>6.7</td>\n      <td>9.21</td>\n      <td>2.39</td>\n      <td>1</td>\n      <td>F</td>\n      <td>0</td>\n    </tr>\n    <tr>\n      <th>1999</th>\n      <td>51</td>\n      <td>166</td>\n      <td>78</td>\n      <td>89.3</td>\n      <td>101.8</td>\n      <td>8.3</td>\n      <td>4.42</td>\n      <td>1.02</td>\n      <td>1</td>\n      <td>M</td>\n      <td>0</td>\n    </tr>\n  </tbody>\n</table>\n<p>1979 rows × 11 columns</p>\n</div>"
     },
     "execution_count": 17,
     "metadata": {},
     "output_type": "execute_result"
    }
   ],
   "source": [
    "df"
   ],
   "metadata": {
    "collapsed": false,
    "ExecuteTime": {
     "end_time": "2025-10-16T18:50:54.928249300Z",
     "start_time": "2025-10-16T18:50:54.900481900Z"
    }
   },
   "id": "f9ee1dbb82b083f"
  },
  {
   "cell_type": "code",
   "execution_count": 11,
   "outputs": [
    {
     "data": {
      "text/plain": "               age   height_cm    weight_kg   heart_rate  blood_pressure  \\\ncount  2000.000000  2000.00000  2000.000000  2000.000000     2000.000000   \nmean     49.114000   174.53300    83.540500    70.288600      119.908850   \nstd      17.926564    14.37175    25.852534    11.846339       14.578032   \nmin      18.000000   150.00000    30.000000    45.000000       90.000000   \n25%      34.000000   162.00000    64.000000    62.100000      109.700000   \n50%      49.000000   174.00000    83.000000    70.250000      120.000000   \n75%      65.000000   187.00000   102.000000    78.425000      129.800000   \nmax      79.000000   199.00000   250.000000   118.600000      171.200000   \n\n       sleep_hours  nutrition_quality  activity_index       is_fit  \ncount  1840.000000        2000.000000     2000.000000  2000.000000  \nmean      7.513315           5.035140        2.999040     0.399500  \nstd       1.502031           2.864156        1.136383     0.489918  \nmin       4.000000           0.000000        1.000000     0.000000  \n25%       6.500000           2.547500        2.037500     0.000000  \n50%       7.500000           5.065000        2.980000     0.000000  \n75%       8.600000           7.470000        3.950000     1.000000  \nmax      12.000000          10.000000        4.990000     1.000000  ",
      "text/html": "<div>\n<style scoped>\n    .dataframe tbody tr th:only-of-type {\n        vertical-align: middle;\n    }\n\n    .dataframe tbody tr th {\n        vertical-align: top;\n    }\n\n    .dataframe thead th {\n        text-align: right;\n    }\n</style>\n<table border=\"1\" class=\"dataframe\">\n  <thead>\n    <tr style=\"text-align: right;\">\n      <th></th>\n      <th>age</th>\n      <th>height_cm</th>\n      <th>weight_kg</th>\n      <th>heart_rate</th>\n      <th>blood_pressure</th>\n      <th>sleep_hours</th>\n      <th>nutrition_quality</th>\n      <th>activity_index</th>\n      <th>is_fit</th>\n    </tr>\n  </thead>\n  <tbody>\n    <tr>\n      <th>count</th>\n      <td>2000.000000</td>\n      <td>2000.00000</td>\n      <td>2000.000000</td>\n      <td>2000.000000</td>\n      <td>2000.000000</td>\n      <td>1840.000000</td>\n      <td>2000.000000</td>\n      <td>2000.000000</td>\n      <td>2000.000000</td>\n    </tr>\n    <tr>\n      <th>mean</th>\n      <td>49.114000</td>\n      <td>174.53300</td>\n      <td>83.540500</td>\n      <td>70.288600</td>\n      <td>119.908850</td>\n      <td>7.513315</td>\n      <td>5.035140</td>\n      <td>2.999040</td>\n      <td>0.399500</td>\n    </tr>\n    <tr>\n      <th>std</th>\n      <td>17.926564</td>\n      <td>14.37175</td>\n      <td>25.852534</td>\n      <td>11.846339</td>\n      <td>14.578032</td>\n      <td>1.502031</td>\n      <td>2.864156</td>\n      <td>1.136383</td>\n      <td>0.489918</td>\n    </tr>\n    <tr>\n      <th>min</th>\n      <td>18.000000</td>\n      <td>150.00000</td>\n      <td>30.000000</td>\n      <td>45.000000</td>\n      <td>90.000000</td>\n      <td>4.000000</td>\n      <td>0.000000</td>\n      <td>1.000000</td>\n      <td>0.000000</td>\n    </tr>\n    <tr>\n      <th>25%</th>\n      <td>34.000000</td>\n      <td>162.00000</td>\n      <td>64.000000</td>\n      <td>62.100000</td>\n      <td>109.700000</td>\n      <td>6.500000</td>\n      <td>2.547500</td>\n      <td>2.037500</td>\n      <td>0.000000</td>\n    </tr>\n    <tr>\n      <th>50%</th>\n      <td>49.000000</td>\n      <td>174.00000</td>\n      <td>83.000000</td>\n      <td>70.250000</td>\n      <td>120.000000</td>\n      <td>7.500000</td>\n      <td>5.065000</td>\n      <td>2.980000</td>\n      <td>0.000000</td>\n    </tr>\n    <tr>\n      <th>75%</th>\n      <td>65.000000</td>\n      <td>187.00000</td>\n      <td>102.000000</td>\n      <td>78.425000</td>\n      <td>129.800000</td>\n      <td>8.600000</td>\n      <td>7.470000</td>\n      <td>3.950000</td>\n      <td>1.000000</td>\n    </tr>\n    <tr>\n      <th>max</th>\n      <td>79.000000</td>\n      <td>199.00000</td>\n      <td>250.000000</td>\n      <td>118.600000</td>\n      <td>171.200000</td>\n      <td>12.000000</td>\n      <td>10.000000</td>\n      <td>4.990000</td>\n      <td>1.000000</td>\n    </tr>\n  </tbody>\n</table>\n</div>"
     },
     "execution_count": 11,
     "metadata": {},
     "output_type": "execute_result"
    }
   ],
   "source": [
    "df.describe()"
   ],
   "metadata": {
    "collapsed": false,
    "ExecuteTime": {
     "end_time": "2025-10-16T18:48:49.460703300Z",
     "start_time": "2025-10-16T18:48:49.428300400Z"
    }
   },
   "id": "167e0647751a1674"
  },
  {
   "cell_type": "code",
   "execution_count": 13,
   "outputs": [
    {
     "name": "stdout",
     "output_type": "stream",
     "text": [
      "0       0\n",
      "1       0\n",
      "2       0\n",
      "3       0\n",
      "4       1\n",
      "       ..\n",
      "1995    1\n",
      "1996    0\n",
      "1997    1\n",
      "1998    1\n",
      "1999    1\n",
      "Name: smokes, Length: 2000, dtype: int64\n",
      "0       0\n",
      "1       0\n",
      "2       0\n",
      "3       0\n",
      "4       1\n",
      "       ..\n",
      "1995    1\n",
      "1996    0\n",
      "1997    1\n",
      "1998    1\n",
      "1999    1\n",
      "Name: smokes, Length: 2000, dtype: int64\n"
     ]
    }
   ],
   "source": [
    "print(df['smokes'])\n",
    "\n",
    "df['smokes'] = (\n",
    "    df['smokes']\n",
    "    .replace({'yes': 1, 'no': 0, 'Yes': 1, 'No': 0})\n",
    "    .astype(int)\n",
    ")\n",
    "\n",
    "print(df['smokes'])\n"
   ],
   "metadata": {
    "collapsed": false,
    "ExecuteTime": {
     "end_time": "2025-10-16T18:49:00.731192600Z",
     "start_time": "2025-10-16T18:49:00.715474100Z"
    }
   },
   "id": "87358c6c33c2da4"
  },
  {
   "cell_type": "code",
   "execution_count": 14,
   "outputs": [],
   "source": [
    "df['sleep_hours'] = df['sleep_hours'].fillna(df['sleep_hours'].median())"
   ],
   "metadata": {
    "collapsed": false,
    "ExecuteTime": {
     "end_time": "2025-10-16T18:49:12.610405700Z",
     "start_time": "2025-10-16T18:49:12.601634200Z"
    }
   },
   "id": "da398c64bd0ff7db"
  },
  {
   "cell_type": "code",
   "execution_count": 15,
   "outputs": [
    {
     "name": "stdout",
     "output_type": "stream",
     "text": [
      "🔎 Wartości odstające w 'weight_kg':\n",
      " - poniżej dolnego progu (7.00): 0\n",
      " - powyżej górnego progu (159.00): 21\n",
      " - razem outlierów: 21\n"
     ]
    }
   ],
   "source": [
    "Q1 = df['weight_kg'].quantile(0.25)\n",
    "Q3 = df['weight_kg'].quantile(0.75)\n",
    "IQR = Q3 - Q1\n",
    "\n",
    "lower_bound = Q1 - 1.5 * IQR\n",
    "upper_bound = Q3 + 1.5 * IQR\n",
    "\n",
    "below_lower = (df['weight_kg'] < lower_bound).sum()\n",
    "above_upper = (df['weight_kg'] > upper_bound).sum()\n",
    "\n",
    "print(f\" Wartości odstające w 'weight_kg':\")\n",
    "print(f\" - poniżej dolnego progu ({lower_bound:.2f}): {below_lower}\")\n",
    "print(f\" - powyżej górnego progu ({upper_bound:.2f}): {above_upper}\")\n",
    "print(f\" - razem outlierów: {below_lower + above_upper}\\n\")"
   ],
   "metadata": {
    "collapsed": false,
    "ExecuteTime": {
     "end_time": "2025-10-16T18:49:24.990204500Z",
     "start_time": "2025-10-16T18:49:24.986585400Z"
    }
   },
   "id": "bee6c5376aa1fd5a"
  },
  {
   "cell_type": "code",
   "execution_count": 16,
   "outputs": [
    {
     "name": "stdout",
     "output_type": "stream",
     "text": [
      "<class 'pandas.core.frame.DataFrame'>\n",
      "Index: 1979 entries, 0 to 1999\n",
      "Data columns (total 11 columns):\n",
      " #   Column             Non-Null Count  Dtype  \n",
      "---  ------             --------------  -----  \n",
      " 0   age                1979 non-null   int64  \n",
      " 1   height_cm          1979 non-null   int64  \n",
      " 2   weight_kg          1979 non-null   int64  \n",
      " 3   heart_rate         1979 non-null   float64\n",
      " 4   blood_pressure     1979 non-null   float64\n",
      " 5   sleep_hours        1979 non-null   float64\n",
      " 6   nutrition_quality  1979 non-null   float64\n",
      " 7   activity_index     1979 non-null   float64\n",
      " 8   smokes             1979 non-null   int64  \n",
      " 9   gender             1979 non-null   object \n",
      " 10  is_fit             1979 non-null   int64  \n",
      "dtypes: float64(5), int64(5), object(1)\n",
      "memory usage: 185.5+ KB\n",
      "None\n"
     ]
    }
   ],
   "source": [
    "df = df[(df['weight_kg'] >= lower_bound) & (df['weight_kg'] <= upper_bound)]\n",
    "print(df.info())\n"
   ],
   "metadata": {
    "collapsed": false,
    "ExecuteTime": {
     "end_time": "2025-10-16T18:50:17.965665200Z",
     "start_time": "2025-10-16T18:50:17.946147900Z"
    }
   },
   "id": "1eb33d0388cbd3b3"
  },
  {
   "cell_type": "code",
   "execution_count": 18,
   "outputs": [],
   "source": [
    "df['gender'] = df['gender'].map({\"M\":1, \"F\":0})"
   ],
   "metadata": {
    "collapsed": false,
    "ExecuteTime": {
     "end_time": "2025-10-16T18:51:17.929250700Z",
     "start_time": "2025-10-16T18:51:17.920766500Z"
    }
   },
   "id": "f07d271652f9002b"
  },
  {
   "cell_type": "code",
   "execution_count": 19,
   "outputs": [
    {
     "name": "stdout",
     "output_type": "stream",
     "text": [
      "<class 'pandas.core.frame.DataFrame'>\n",
      "Index: 1979 entries, 0 to 1999\n",
      "Data columns (total 11 columns):\n",
      " #   Column             Non-Null Count  Dtype  \n",
      "---  ------             --------------  -----  \n",
      " 0   age                1979 non-null   int64  \n",
      " 1   height_cm          1979 non-null   int64  \n",
      " 2   weight_kg          1979 non-null   int64  \n",
      " 3   heart_rate         1979 non-null   float64\n",
      " 4   blood_pressure     1979 non-null   float64\n",
      " 5   sleep_hours        1979 non-null   float64\n",
      " 6   nutrition_quality  1979 non-null   float64\n",
      " 7   activity_index     1979 non-null   float64\n",
      " 8   smokes             1979 non-null   int64  \n",
      " 9   gender             1979 non-null   int64  \n",
      " 10  is_fit             1979 non-null   int64  \n",
      "dtypes: float64(5), int64(6)\n",
      "memory usage: 185.5 KB\n",
      "None\n"
     ]
    }
   ],
   "source": [
    "print(df.info())\n"
   ],
   "metadata": {
    "collapsed": false,
    "ExecuteTime": {
     "end_time": "2025-10-16T18:51:22.755182600Z",
     "start_time": "2025-10-16T18:51:22.734873500Z"
    }
   },
   "id": "c2d54d347d25a2fa"
  },
  {
   "cell_type": "code",
   "execution_count": 22,
   "outputs": [],
   "source": [
    "X = df.drop(columns='is_fit')\n",
    "y = df['is_fit']\n",
    "\n",
    "\n",
    "\n",
    "X.to_csv(\"preprocessed_datasets/gym_data.csv\", index=False)\n",
    "y.to_csv(\"preprocessed_datasets/gym_target.csv\", index=False)"
   ],
   "metadata": {
    "collapsed": false,
    "ExecuteTime": {
     "end_time": "2025-10-16T18:53:12.785881700Z",
     "start_time": "2025-10-16T18:53:12.774592700Z"
    }
   },
   "id": "be6252137b7444de"
  },
  {
   "cell_type": "code",
   "execution_count": 23,
   "outputs": [
    {
     "name": "stdout",
     "output_type": "stream",
     "text": [
      "0.7710437710437711\n"
     ]
    },
    {
     "data": {
      "text/plain": "             Feature  Importance\n7     activity_index    0.276540\n6  nutrition_quality    0.174758\n8             smokes    0.169743\n0                age    0.119055\n2          weight_kg    0.059471\n5        sleep_hours    0.050666\n9             gender    0.041763\n4     blood_pressure    0.040999\n1          height_cm    0.036197\n3         heart_rate    0.030809",
      "text/html": "<div>\n<style scoped>\n    .dataframe tbody tr th:only-of-type {\n        vertical-align: middle;\n    }\n\n    .dataframe tbody tr th {\n        vertical-align: top;\n    }\n\n    .dataframe thead th {\n        text-align: right;\n    }\n</style>\n<table border=\"1\" class=\"dataframe\">\n  <thead>\n    <tr style=\"text-align: right;\">\n      <th></th>\n      <th>Feature</th>\n      <th>Importance</th>\n    </tr>\n  </thead>\n  <tbody>\n    <tr>\n      <th>7</th>\n      <td>activity_index</td>\n      <td>0.276540</td>\n    </tr>\n    <tr>\n      <th>6</th>\n      <td>nutrition_quality</td>\n      <td>0.174758</td>\n    </tr>\n    <tr>\n      <th>8</th>\n      <td>smokes</td>\n      <td>0.169743</td>\n    </tr>\n    <tr>\n      <th>0</th>\n      <td>age</td>\n      <td>0.119055</td>\n    </tr>\n    <tr>\n      <th>2</th>\n      <td>weight_kg</td>\n      <td>0.059471</td>\n    </tr>\n    <tr>\n      <th>5</th>\n      <td>sleep_hours</td>\n      <td>0.050666</td>\n    </tr>\n    <tr>\n      <th>9</th>\n      <td>gender</td>\n      <td>0.041763</td>\n    </tr>\n    <tr>\n      <th>4</th>\n      <td>blood_pressure</td>\n      <td>0.040999</td>\n    </tr>\n    <tr>\n      <th>1</th>\n      <td>height_cm</td>\n      <td>0.036197</td>\n    </tr>\n    <tr>\n      <th>3</th>\n      <td>heart_rate</td>\n      <td>0.030809</td>\n    </tr>\n  </tbody>\n</table>\n</div>"
     },
     "execution_count": 23,
     "metadata": {},
     "output_type": "execute_result"
    }
   ],
   "source": [
    "from sklearn.ensemble import GradientBoostingClassifier\n",
    "from sklearn.model_selection import train_test_split\n",
    "from sklearn.metrics import accuracy_score\n",
    "import pandas as pd\n",
    "\n",
    "\n",
    "X = pd.read_csv(\"preprocessed_datasets/gym_data.csv\")\n",
    "y = pd.read_csv(\"preprocessed_datasets/gym_target.csv\").squeeze()\n",
    "\n",
    "#X = X.drop(columns='ST_Slope')\n",
    "\n",
    "X_train, X_test, y_train, y_test = train_test_split(X, y, test_size=0.3, random_state=42)\n",
    "\n",
    "model = GradientBoostingClassifier()\n",
    "model.fit(X_train, y_train)\n",
    "print(accuracy_score(model.predict(X_test), y_test))\n",
    "\n",
    "feature_importance_df = pd.DataFrame({\n",
    "    'Feature': X.columns,\n",
    "    'Importance': model.feature_importances_\n",
    "})\n",
    "\n",
    "\n",
    "feature_importance_df = feature_importance_df.sort_values(by='Importance', ascending=False)\n",
    "feature_importance_df"
   ],
   "metadata": {
    "collapsed": false,
    "ExecuteTime": {
     "end_time": "2025-10-16T18:53:22.536534Z",
     "start_time": "2025-10-16T18:53:20.716027400Z"
    }
   },
   "id": "1467c85e73787081"
  },
  {
   "cell_type": "code",
   "execution_count": null,
   "outputs": [],
   "source": [],
   "metadata": {
    "collapsed": false
   },
   "id": "ffcf146d79461270"
  }
 ],
 "metadata": {
  "kernelspec": {
   "display_name": "Python 3",
   "language": "python",
   "name": "python3"
  },
  "language_info": {
   "codemirror_mode": {
    "name": "ipython",
    "version": 2
   },
   "file_extension": ".py",
   "mimetype": "text/x-python",
   "name": "python",
   "nbconvert_exporter": "python",
   "pygments_lexer": "ipython2",
   "version": "2.7.6"
  }
 },
 "nbformat": 4,
 "nbformat_minor": 5
}
