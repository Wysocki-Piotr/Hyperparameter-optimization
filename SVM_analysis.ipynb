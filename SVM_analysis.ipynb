{
 "cells": [
  {
   "cell_type": "code",
   "execution_count": 18,
   "outputs": [],
   "source": [
    "import numpy as np\n",
    "import pandas as pd\n",
    "from sklearn.model_selection import train_test_split\n",
    "from sklearn.metrics import brier_score_loss\n",
    "import matplotlib.pyplot as plt\n",
    "import seaborn as sns\n",
    "from sklearn.svm import SVC\n",
    "from sklearn.preprocessing import StandardScaler\n",
    "from sklearn.pipeline import make_pipeline\n",
    "import warnings\n",
    "warnings.filterwarnings(\"ignore\")"
   ],
   "metadata": {
    "collapsed": false,
    "ExecuteTime": {
     "end_time": "2025-10-27T20:37:28.109946800Z",
     "start_time": "2025-10-27T20:37:28.078402800Z"
    }
   },
   "id": "11ee23e50ffd1e01"
  },
  {
   "cell_type": "code",
   "execution_count": 27,
   "outputs": [],
   "source": [
    "\n",
    "data = {\n",
    "    \"model\": [\"SVM\"] * 4,\n",
    "    \"dataset\": [\"Bank\", \"Gym\", \"Heart\", \"Titanic\"],\n",
    "    \"Params_Random\": [\n",
    "        {'C': 1.3690,   'gamma': 0.0137},\n",
    "        {'C': 281.5758, 'gamma': 0.0016},\n",
    "        {'C': 8.9570,   'gamma': 0.0007},\n",
    "        {'C': 6.3267,   'gamma': 0.0477}\n",
    "    ],\n",
    "    \"Brier_score_Base\": [0.1893, 0.1687, 0.0998, 0.1712],\n",
    "    \"Brier_Random\": [0.1893, 0.1676, 0.1085, 0.1645],\n",
    "    \"Bayes_Brier\": [\n",
    "        0.1876086998390129,\n",
    "        0.13921661003418287,\n",
    "        0.13328436116417486,\n",
    "        0.12212406619348962\n",
    "    ],\n",
    "    \"Bayes_Params\": [\n",
    "        {'C': 3.6224920477262006, 'gamma': 0.011434496347157295},\n",
    "        {'C': 1.927147263811625, 'gamma': 0.0158554887437458},\n",
    "        {'C': 1.2891930984694402, 'gamma': 0.022762273797099865},\n",
    "        {'C': 21.71388003863076, 'gamma': 0.021649610751383667}\n",
    "    ]\n",
    "}\n",
    "\n",
    "# Tworzenie dwóch ramek\n",
    "df_random = pd.DataFrame({\n",
    "    \"Model\": data[\"model\"],\n",
    "    \"Dataset\": data[\"dataset\"],\n",
    "    \"Base\" : data[\"Brier_score_Base\"],\n",
    "    \"Params\": data[\"Params_Random\"],\n",
    "    \"Brier Score\": data[\"Brier_Random\"]\n",
    "})\n",
    "\n",
    "df_bayes = pd.DataFrame({\n",
    "    \"Model\": data[\"model\"],\n",
    "    \"Dataset\": data[\"dataset\"],\n",
    "    \"Base\" : data[\"Brier_score_Base\"],\n",
    "    \"Params\": data[\"Bayes_Params\"],\n",
    "    \"Brier Score\": data[\"Bayes_Brier\"]\n",
    "})\n"
   ],
   "metadata": {
    "collapsed": false,
    "ExecuteTime": {
     "end_time": "2025-10-27T20:43:17.047358700Z",
     "start_time": "2025-10-27T20:43:17.030874900Z"
    }
   },
   "id": "initial_id"
  },
  {
   "cell_type": "code",
   "execution_count": 3,
   "outputs": [],
   "source": [
    "subset = {\"model\": [\"SVM\", \"SVM\",\"SVM\",\"SVM\"],\n",
    "         \"frac\" : [1,0.75,0.5,0.25],\n",
    "        \"params\" : [{'C': 4.177031028761628, 'gamma': 0.010251858324347664}, {'C': 3.775008893432737, 'gamma': 0.011281404568596604}, {'C': 1.629812062881743, 'gamma': 0.005950453701289126}, {'C': 2.720733940437542, 'gamma': 0.0038932314792304375}],\n",
    "        \"brier\": [0.1876086998390129,0.1896724618482984,0.1934321925950191,0.1956284739244753]}\n",
    "subset = pd.DataFrame(subset)"
   ],
   "metadata": {
    "collapsed": false,
    "ExecuteTime": {
     "end_time": "2025-10-27T20:33:10.923598Z",
     "start_time": "2025-10-27T20:33:10.868891900Z"
    }
   },
   "id": "e2c62ecc38436969"
  },
  {
   "cell_type": "code",
   "execution_count": 4,
   "outputs": [
    {
     "data": {
      "text/plain": "  model  frac                                             params     brier\n0   SVM  1.00  {'C': 4.177031028761628, 'gamma': 0.0102518583...  0.187609\n1   SVM  0.75  {'C': 3.775008893432737, 'gamma': 0.0112814045...  0.189672\n2   SVM  0.50  {'C': 1.629812062881743, 'gamma': 0.0059504537...  0.193432\n3   SVM  0.25  {'C': 2.720733940437542, 'gamma': 0.0038932314...  0.195628",
      "text/html": "<div>\n<style scoped>\n    .dataframe tbody tr th:only-of-type {\n        vertical-align: middle;\n    }\n\n    .dataframe tbody tr th {\n        vertical-align: top;\n    }\n\n    .dataframe thead th {\n        text-align: right;\n    }\n</style>\n<table border=\"1\" class=\"dataframe\">\n  <thead>\n    <tr style=\"text-align: right;\">\n      <th></th>\n      <th>model</th>\n      <th>frac</th>\n      <th>params</th>\n      <th>brier</th>\n    </tr>\n  </thead>\n  <tbody>\n    <tr>\n      <th>0</th>\n      <td>SVM</td>\n      <td>1.00</td>\n      <td>{'C': 4.177031028761628, 'gamma': 0.0102518583...</td>\n      <td>0.187609</td>\n    </tr>\n    <tr>\n      <th>1</th>\n      <td>SVM</td>\n      <td>0.75</td>\n      <td>{'C': 3.775008893432737, 'gamma': 0.0112814045...</td>\n      <td>0.189672</td>\n    </tr>\n    <tr>\n      <th>2</th>\n      <td>SVM</td>\n      <td>0.50</td>\n      <td>{'C': 1.629812062881743, 'gamma': 0.0059504537...</td>\n      <td>0.193432</td>\n    </tr>\n    <tr>\n      <th>3</th>\n      <td>SVM</td>\n      <td>0.25</td>\n      <td>{'C': 2.720733940437542, 'gamma': 0.0038932314...</td>\n      <td>0.195628</td>\n    </tr>\n  </tbody>\n</table>\n</div>"
     },
     "execution_count": 4,
     "metadata": {},
     "output_type": "execute_result"
    }
   ],
   "source": [
    "subset"
   ],
   "metadata": {
    "collapsed": false,
    "ExecuteTime": {
     "end_time": "2025-10-27T20:33:32.634919900Z",
     "start_time": "2025-10-27T20:33:32.605057500Z"
    }
   },
   "id": "e6c541a3a980bfe0"
  },
  {
   "cell_type": "code",
   "execution_count": 6,
   "outputs": [
    {
     "data": {
      "text/plain": "Index(['Model', 'Dataset', 'Params', 'Brier Score'], dtype='object')"
     },
     "execution_count": 6,
     "metadata": {},
     "output_type": "execute_result"
    }
   ],
   "source": [
    "df_bayes.columns\n"
   ],
   "metadata": {
    "collapsed": false,
    "ExecuteTime": {
     "end_time": "2025-10-27T20:34:28.221095100Z",
     "start_time": "2025-10-27T20:34:28.206360500Z"
    }
   },
   "id": "4ac0e3df361503ea"
  },
  {
   "cell_type": "code",
   "execution_count": 7,
   "outputs": [],
   "source": [
    "best_params = np.where(\n",
    "    df_bayes['Brier Score'] < df_random['Brier Score'],\n",
    "    df_bayes['Params'],\n",
    "    df_random['Params']\n",
    ")"
   ],
   "metadata": {
    "collapsed": false,
    "ExecuteTime": {
     "end_time": "2025-10-27T20:34:58.396476700Z",
     "start_time": "2025-10-27T20:34:58.381088900Z"
    }
   },
   "id": "2142dddbf86dfca8"
  },
  {
   "cell_type": "code",
   "execution_count": 8,
   "outputs": [
    {
     "data": {
      "text/plain": "array([{'C': 3.6224920477262006, 'gamma': 0.011434496347157295},\n       {'C': 1.927147263811625, 'gamma': 0.0158554887437458},\n       {'C': 8.957, 'gamma': 0.0007},\n       {'C': 21.71388003863076, 'gamma': 0.021649610751383667}],\n      dtype=object)"
     },
     "execution_count": 8,
     "metadata": {},
     "output_type": "execute_result"
    }
   ],
   "source": [
    "best_params"
   ],
   "metadata": {
    "collapsed": false,
    "ExecuteTime": {
     "end_time": "2025-10-27T20:35:00.210679900Z",
     "start_time": "2025-10-27T20:35:00.189843Z"
    }
   },
   "id": "6b033581252a1807"
  },
  {
   "cell_type": "code",
   "execution_count": 9,
   "outputs": [],
   "source": [
    "best_params_list = list(best_params)\n"
   ],
   "metadata": {
    "collapsed": false,
    "ExecuteTime": {
     "end_time": "2025-10-27T20:35:14.622728400Z",
     "start_time": "2025-10-27T20:35:14.613152100Z"
    }
   },
   "id": "8dba96ecbdd1ebed"
  },
  {
   "cell_type": "code",
   "execution_count": 10,
   "outputs": [],
   "source": [
    "median_params = pd.DataFrame(best_params_list).median(numeric_only=True).to_dict()\n"
   ],
   "metadata": {
    "collapsed": false,
    "ExecuteTime": {
     "end_time": "2025-10-27T20:35:21.478691700Z",
     "start_time": "2025-10-27T20:35:21.469351500Z"
    }
   },
   "id": "a24f5a6d74d6f706"
  },
  {
   "cell_type": "code",
   "execution_count": 11,
   "outputs": [
    {
     "name": "stdout",
     "output_type": "stream",
     "text": [
      "{'C': 6.289746023863101, 'gamma': 0.013644992545451547}\n"
     ]
    }
   ],
   "source": [
    "int_params = ['max_depth', 'min_data_in_leaf', 'n_estimators', 'num_leaves', 'min_child_samples']\n",
    "\n",
    "for param in int_params:\n",
    "    if param in median_params:\n",
    "        median_params[param] = int(round(median_params[param]))\n",
    "\n",
    "print(median_params)"
   ],
   "metadata": {
    "collapsed": false,
    "ExecuteTime": {
     "end_time": "2025-10-27T20:35:29.462882200Z",
     "start_time": "2025-10-27T20:35:29.438107100Z"
    }
   },
   "id": "bc4d3989eb7092a4"
  },
  {
   "cell_type": "code",
   "execution_count": 12,
   "outputs": [],
   "source": [
    "X1 = pd.read_csv(\"preprocessed_datasets/bank_data.csv\")\n",
    "y1 = pd.read_csv(\"preprocessed_datasets/bank_target.csv\")\n",
    "X2 = pd.read_csv(\"preprocessed_datasets/gym_data.csv\")\n",
    "y2 = pd.read_csv(\"preprocessed_datasets/gym_target.csv\")\n",
    "X3 = pd.read_csv(\"preprocessed_datasets/heartDisease_data.csv\")\n",
    "y3 = pd.read_csv(\"preprocessed_datasets/heartDisease_target.csv\")\n",
    "X4 = pd.read_csv(\"preprocessed_datasets/titanic_data.csv\")\n",
    "y4 = pd.read_csv(\"preprocessed_datasets/titanic_target.csv\")\n"
   ],
   "metadata": {
    "collapsed": false,
    "ExecuteTime": {
     "end_time": "2025-10-27T20:35:40.559490100Z",
     "start_time": "2025-10-27T20:35:40.490899700Z"
    }
   },
   "id": "e95f5382f1d65b8"
  },
  {
   "cell_type": "code",
   "execution_count": 13,
   "outputs": [],
   "source": [
    "X1_train, X1_test, y1_train, y1_test = train_test_split(X1, y1, test_size=0.2, random_state=42, stratify=y1)\n",
    "X2_train, X2_test, y2_train, y2_test = train_test_split(X2, y2, test_size=0.2, random_state=42, stratify=y2)\n",
    "X3_train, X3_test, y3_train, y3_test = train_test_split(X3, y3, test_size=0.2, random_state=42, stratify=y3)\n",
    "X4_train, X4_test, y4_train, y4_test = train_test_split(X4, y4, test_size=0.2, random_state=42, stratify=y4)"
   ],
   "metadata": {
    "collapsed": false,
    "ExecuteTime": {
     "end_time": "2025-10-27T20:35:44.893590Z",
     "start_time": "2025-10-27T20:35:44.836892800Z"
    }
   },
   "id": "47fc54cdfe136f43"
  },
  {
   "cell_type": "code",
   "execution_count": 14,
   "outputs": [],
   "source": [
    "datasets = [(X1_train, X1_test, y1_train, y1_test),\n",
    "            (X2_train, X2_test, y2_train, y2_test),\n",
    "            (X3_train, X3_test, y3_train, y3_test),\n",
    "            (X4_train, X4_test, y4_train, y4_test)]"
   ],
   "metadata": {
    "collapsed": false,
    "ExecuteTime": {
     "end_time": "2025-10-27T20:35:51.522407500Z",
     "start_time": "2025-10-27T20:35:51.502931800Z"
    }
   },
   "id": "b18e3ab4d902245c"
  },
  {
   "cell_type": "code",
   "execution_count": 19,
   "outputs": [
    {
     "name": "stdout",
     "output_type": "stream",
     "text": [
      "  dataset  baseline_brier  new_brier  improvement\n",
      "0      X1        0.189311   0.187915     0.001396\n",
      "1      X2        0.168670   0.166969     0.001701\n",
      "2      X3        0.099818   0.102740    -0.002923\n",
      "3      X4        0.171162   0.173899    -0.002738\n"
     ]
    }
   ],
   "source": [
    "\n",
    "\n",
    "results = []\n",
    "RANDOM_STATE = 42\n",
    "for i, (X_train, X_test, y_train, y_test) in enumerate(datasets, start=1):\n",
    "    baseline_model =  make_pipeline(\n",
    "        StandardScaler(),\n",
    "        SVC(kernel='rbf', probability=True, random_state=42)\n",
    "    )\n",
    "    baseline_model.fit(X_train, y_train)\n",
    "    y_prob_baseline = baseline_model.predict_proba(X_test)[:, 1]\n",
    "    baseline_brier = brier_score_loss(y_test, y_prob_baseline)\n",
    "\n",
    "    model =make_pipeline(\n",
    "        StandardScaler(), SVC(**median_params,kernel='rbf', probability=True,  random_state=RANDOM_STATE))\n",
    "    model.fit(X_train, y_train)\n",
    "    y_prob_new = model.predict_proba(X_test)[:, 1]\n",
    "    new_brier = brier_score_loss(y_test, y_prob_new)\n",
    "\n",
    "    results.append({\n",
    "        'dataset': f'X{i}',\n",
    "        'baseline_brier': baseline_brier,\n",
    "        'new_brier': new_brier,\n",
    "        'improvement': baseline_brier - new_brier\n",
    "    })\n",
    "\n",
    "results_df = pd.DataFrame(results)\n",
    "print(results_df)\n"
   ],
   "metadata": {
    "collapsed": false,
    "ExecuteTime": {
     "end_time": "2025-10-27T20:39:15.116045500Z",
     "start_time": "2025-10-27T20:38:35.257115200Z"
    }
   },
   "id": "f4ec285136913ba0"
  },
  {
   "cell_type": "markdown",
   "source": [
    "***We can observe almost no improvement or decrement in score***"
   ],
   "metadata": {
    "collapsed": false
   },
   "id": "5c97b8d12797db10"
  },
  {
   "cell_type": "code",
   "execution_count": 21,
   "outputs": [
    {
     "name": "stdout",
     "output_type": "stream",
     "text": [
      "Mean difference: -0.000641\n",
      "Median difference: -0.000671\n",
      "Std of difference: 0.002532\n",
      "Percentage of configurations better than baseline by > 0.001: 50.0%\n"
     ]
    },
    {
     "data": {
      "text/plain": "<Figure size 640x480 with 1 Axes>",
      "image/png": "[encoded data removed]"
     },
     "metadata": {},
     "output_type": "display_data"
    }
   ],
   "source": [
    "diff = results_df['improvement']\n",
    "\n",
    "mean_diff = diff.mean()\n",
    "median_diff = diff.median()\n",
    "std_diff = diff.std()\n",
    "epsilon = 0.001 \n",
    "pct_better = (diff > epsilon).mean() * 100\n",
    "\n",
    "print(f\"Mean difference: {mean_diff:.6f}\")\n",
    "print(f\"Median difference: {median_diff:.6f}\")\n",
    "print(f\"Std of difference: {std_diff:.6f}\")\n",
    "print(f\"Percentage of configurations better than baseline by > {epsilon}: {pct_better:.1f}%\")\n",
    "\n",
    "sns.boxplot(x=diff)\n",
    "plt.title(\"Boxplot of differences\")\n",
    "plt.xlabel(\"Difference in Brier score\")\n",
    "plt.show()"
   ],
   "metadata": {
    "collapsed": false,
    "ExecuteTime": {
     "end_time": "2025-10-27T20:39:46.183487900Z",
     "start_time": "2025-10-27T20:39:45.964811200Z"
    }
   },
   "id": "a943ac9697a31b77"
  },
  {
   "cell_type": "code",
   "execution_count": 23,
   "outputs": [],
   "source": [
    "fractions = subset[\"frac\"]\n",
    "brier_test = subset[\"brier\"]"
   ],
   "metadata": {
    "collapsed": false,
    "ExecuteTime": {
     "end_time": "2025-10-27T20:40:10.693073600Z",
     "start_time": "2025-10-27T20:40:10.662266600Z"
    }
   },
   "id": "cd630a6d8739e06b"
  },
  {
   "cell_type": "code",
   "execution_count": 24,
   "outputs": [
    {
     "name": "stdout",
     "output_type": "stream",
     "text": [
      "   frac  delta_brier\n",
      "0  1.00     0.000000\n",
      "1  0.75     0.002064\n",
      "2  0.50     0.005823\n",
      "3  0.25     0.008020\n"
     ]
    }
   ],
   "source": [
    "ref_brier = subset.loc[subset['frac']==1.0, 'brier'].values[0]\n",
    "subset['delta_brier'] = subset['brier'] - ref_brier\n",
    "print(subset[['frac', 'delta_brier']])"
   ],
   "metadata": {
    "collapsed": false,
    "ExecuteTime": {
     "end_time": "2025-10-27T20:41:25.152518900Z",
     "start_time": "2025-10-27T20:41:25.132763400Z"
    }
   },
   "id": "35004b579104c5bb"
  },
  {
   "cell_type": "code",
   "execution_count": 25,
   "outputs": [
    {
     "data": {
      "text/plain": "<Figure size 640x480 with 1 Axes>",
      "image/png": "[encoded data removed]"
     },
     "metadata": {},
     "output_type": "display_data"
    }
   ],
   "source": [
    "x_labels = subset['frac'].astype(str)\n",
    "\n",
    "plt.bar(x_labels, subset['delta_brier'], color='skyblue')\n",
    "plt.xlabel('Fraction of data used')\n",
    "plt.ylabel('Delta Brier vs full dataset')\n",
    "plt.title('Difference from full dataset performance')\n",
    "plt.show()"
   ],
   "metadata": {
    "collapsed": false,
    "ExecuteTime": {
     "end_time": "2025-10-27T20:41:38.329341700Z",
     "start_time": "2025-10-27T20:41:38.220164900Z"
    }
   },
   "id": "72571d740911aa35"
  },
  {
   "cell_type": "markdown",
   "source": [
    "**On these data less data = worse score. It is something that seems logical**"
   ],
   "metadata": {
    "collapsed": false
   },
   "id": "f6a5550cbc60d7ad"
  },
  {
   "cell_type": "code",
   "execution_count": 29,
   "outputs": [
    {
     "data": {
      "text/plain": "<Figure size 800x500 with 1 Axes>",
      "image/png": "[encoded data removed]"
     },
     "metadata": {},
     "output_type": "display_data"
    }
   ],
   "source": [
    "df_bayes['improvement'] = df_bayes['Base'] - df_bayes['Brier Score']\n",
    "df_random['improvement'] = df_random['Base'] - df_random['Brier Score']\n",
    "\n",
    "plot_df = pd.DataFrame({\n",
    "    'dataset': df_bayes['Dataset'],\n",
    "    'Bayes': df_bayes['improvement'],\n",
    "    'Random': df_random['improvement']\n",
    "})\n",
    "\n",
    "x = np.arange(len(plot_df['dataset']))\n",
    "width = 0.35\n",
    "\n",
    "fig, ax = plt.subplots(figsize=(8, 5))\n",
    "ax.bar(x - width / 2, plot_df['Bayes'], width, label='Bayes')\n",
    "ax.bar(x + width / 2, plot_df['Random'], width, label='Random')\n",
    "\n",
    "ax.set_xlabel('Dataset')\n",
    "ax.set_ylabel('Brier score improvement (baseline - best)')\n",
    "ax.set_title('Porównanie poprawy Brier score: Bayes vs Random')\n",
    "ax.set_xticks(x)\n",
    "ax.set_xticklabels(plot_df['dataset'])\n",
    "ax.legend()\n",
    "plt.show()\n"
   ],
   "metadata": {
    "collapsed": false,
    "ExecuteTime": {
     "end_time": "2025-10-27T20:44:02.750413200Z",
     "start_time": "2025-10-27T20:44:02.638877900Z"
    }
   },
   "id": "b0ed9ea77c7046d9"
  },
  {
   "cell_type": "code",
   "execution_count": null,
   "outputs": [],
   "source": [],
   "metadata": {
    "collapsed": false
   },
   "id": "65481c309c6a8f01"
  }
 ],
 "metadata": {
  "kernelspec": {
   "display_name": "Python 3",
   "language": "python",
   "name": "python3"
  },
  "language_info": {
   "codemirror_mode": {
    "name": "ipython",
    "version": 2
   },
   "file_extension": ".py",
   "mimetype": "text/x-python",
   "name": "python",
   "nbconvert_exporter": "python",
   "pygments_lexer": "ipython2",
   "version": "2.7.6"
  }
 },
 "nbformat": 4,
 "nbformat_minor": 5
}
