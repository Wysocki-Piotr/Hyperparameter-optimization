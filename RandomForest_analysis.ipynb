{
 "cells": [
  {
   "cell_type": "code",
   "execution_count": 11,
   "id": "b1aae2a4",
   "metadata": {},
   "outputs": [],
   "source": [
    "import numpy as np\n",
    "import pandas as pd\n",
    "from sklearn.model_selection import train_test_split\n",
    "from sklearn.ensemble import RandomForestClassifier\n",
    "from sklearn.metrics import brier_score_loss\n",
    "import matplotlib.pyplot as plt\n",
    "import seaborn as sns\n",
    "from scipy.stats import wilcoxon\n",
    "\n",
    "import warnings\n",
    "warnings.filterwarnings(\"ignore\")"
   ]
  },
  {
   "cell_type": "markdown",
   "id": "ovjxfpk2ybc",
   "metadata": {},
   "source": [
    "### Load data from files"
   ]
  },
  {
   "cell_type": "code",
   "execution_count": 12,
   "id": "3hvqxd6s0rc",
   "metadata": {},
   "outputs": [
    {
     "name": "stdout",
     "output_type": "stream",
     "text": [
      "Random Search - Loaded from files:\n",
      "  Bank: 0.1847155960056662\n",
      "  Gym: 0.1769953375792064\n",
      "  Heart Disease: 0.1076035974331696\n",
      "  Titanic: 0.149755908553256\n"
     ]
    }
   ],
   "source": [
    "# Load Random Search results from best_models_summary.csv\n",
    "rs_best_models = pd.read_csv('RandomForestData/best_models_summary.csv')\n",
    "\n",
    "# Extract baseline brier scores (these are from RandomForest.ipynb baseline runs)\n",
    "baseline_brier_scores = [0.1892, 0.1819, 0.1067, 0.1520]  # Bank, Gym, Heart Disease, Titanic\n",
    "\n",
    "# Extract Random Search best parameters and test scores for each dataset\n",
    "import ast\n",
    "\n",
    "random_brier_adj = []\n",
    "random_best_params = []\n",
    "\n",
    "for dataset_name in ['Bank', 'Gym', 'Heart Disease', 'Titanic']:\n",
    "    row = rs_best_models[rs_best_models['dataset'] == dataset_name].iloc[0]\n",
    "    random_brier_adj.append(row['brier_score'])\n",
    "    random_best_params.append(ast.literal_eval(row['params']))\n",
    "\n",
    "print(\"Random Search - Loaded from files:\")\n",
    "for ds, brier in zip(['Bank', 'Gym', 'Heart Disease', 'Titanic'], random_brier_adj):\n",
    "    print(f\"  {ds}: {brier}\")"
   ]
  },
  {
   "cell_type": "code",
   "execution_count": 13,
   "id": "4c1g603v7wu",
   "metadata": {},
   "outputs": [
    {
     "name": "stdout",
     "output_type": "stream",
     "text": [
      "\n",
      "Bayesian Optimization - Loaded from files:\n",
      "  Bank: 0.1845966828222708\n",
      "  Gym: 0.178241845238274\n",
      "  Heart Disease: 0.1066380630627618\n",
      "  Titanic: 0.1509247744268588\n"
     ]
    }
   ],
   "source": [
    "# Load Bayesian Optimization results from all_bayesian_results.csv\n",
    "bayes_results = pd.read_csv('RandomForestData/all_bayesian_results.csv')\n",
    "\n",
    "# Extract Bayesian best parameters and test scores for each dataset\n",
    "bayes_brier_adj = []\n",
    "bayes_best_params = []\n",
    "\n",
    "for dataset_name in ['Bank', 'Gym', 'Heart Disease', 'Titanic']:\n",
    "    # Filter for this dataset and completed trials\n",
    "    ds_trials = bayes_results[bayes_results['dataset'] == dataset_name]\n",
    "    ds_completed = ds_trials[ds_trials['state'] == 1]  # State 1 = COMPLETE\n",
    "    \n",
    "    # Get best trial (lowest brier_score)\n",
    "    best_trial = ds_completed.loc[ds_completed['brier_score'].idxmin()]\n",
    "    \n",
    "    # Extract test brier score (unique per dataset)\n",
    "    bayes_brier_adj.append(best_trial['test_brier_score'])\n",
    "    \n",
    "    # Extract parameters\n",
    "    params = {\n",
    "        'n_estimators': int(best_trial['n_estimators']),\n",
    "        'criterion': best_trial['criterion'],\n",
    "        'max_depth': None if pd.isna(best_trial['max_depth']) else int(best_trial['max_depth']),\n",
    "        'min_samples_split': int(best_trial['min_samples_split']),\n",
    "        'min_samples_leaf': int(best_trial['min_samples_leaf']),\n",
    "        'max_features': best_trial['max_features'] if best_trial['max_features'] == 'sqrt' else float(best_trial['max_features']),\n",
    "        'max_samples': None if pd.isna(best_trial['max_samples']) else float(best_trial['max_samples'])\n",
    "    }\n",
    "    bayes_best_params.append(params)\n",
    "\n",
    "print(\"\\nBayesian Optimization - Loaded from files:\")\n",
    "for ds, brier in zip(['Bank', 'Gym', 'Heart Disease', 'Titanic'], bayes_brier_adj):\n",
    "    print(f\"  {ds}: {brier}\")"
   ]
  },
  {
   "cell_type": "code",
   "execution_count": 14,
   "id": "chgl50f3xyn",
   "metadata": {},
   "outputs": [
    {
     "name": "stdout",
     "output_type": "stream",
     "text": [
      "\n",
      "Subset analysis - Loaded from files:\n",
      "  25%: 0.1946584378526347\n",
      "  50%: 0.1927654512941477\n",
      "  75%: 0.1923118257053812\n",
      "  100%: 0.1847155960056662\n"
     ]
    }
   ],
   "source": [
    "# Load subset comparison results from subset_comparison_results.csv\n",
    "subset_results = pd.read_csv('RandomForestData/subset_comparison_results.csv')\n",
    "\n",
    "# Filter for Random Search method (we'll use Random Search subset data)\n",
    "rs_subsets = subset_results[subset_results['method'] == 'Random Search'].sort_values('frac')\n",
    "\n",
    "subset_fracs = list(rs_subsets['frac'])\n",
    "subset_brier_cv = list(rs_subsets['brier_cv'])\n",
    "subset_brier_test = list(rs_subsets['brier_test'])\n",
    "\n",
    "# For subset best_params, we'll use the same best params from Random Search\n",
    "# (the subset analysis used the same parameters across different data fractions)\n",
    "subset_best_params = [random_best_params[0]] * 4  # Using Bank dataset params\n",
    "\n",
    "print(\"\\nSubset analysis - Loaded from files:\")\n",
    "for frac, brier in zip(subset_fracs, subset_brier_test):\n",
    "    print(f\"  {int(frac*100)}%: {brier}\")"
   ]
  },
  {
   "cell_type": "markdown",
   "id": "5vancwcek47",
   "metadata": {},
   "source": [
    "### Create data dictionaries from loaded values"
   ]
  },
  {
   "cell_type": "code",
   "execution_count": 15,
   "id": "yc0sq0tei8o",
   "metadata": {},
   "outputs": [
    {
     "name": "stdout",
     "output_type": "stream",
     "text": [
      "\n",
      "Random Search dict created from files:\n",
      "  Datasets: ['bank', 'gym', 'heart', 'titanic']\n",
      "  Brier scores: [np.float64(0.1847155960056662), np.float64(0.1769953375792064), np.float64(0.1076035974331696), np.float64(0.149755908553256)]\n"
     ]
    }
   ],
   "source": [
    "# Create random dict from loaded data\n",
    "random = {\n",
    "    'dataset': ['bank', 'gym', 'heart', 'titanic'],\n",
    "    'brier_adj': random_brier_adj,\n",
    "    'baseline_brier': baseline_brier_scores,\n",
    "    'best_params': random_best_params\n",
    "}\n",
    "\n",
    "print(\"\\nRandom Search dict created from files:\")\n",
    "print(f\"  Datasets: {random['dataset']}\")\n",
    "print(f\"  Brier scores: {random['brier_adj']}\")"
   ]
  },
  {
   "cell_type": "code",
   "execution_count": 16,
   "id": "0pc3jwnnc6bf",
   "metadata": {},
   "outputs": [
    {
     "name": "stdout",
     "output_type": "stream",
     "text": [
      "\n",
      "Bayesian Optimization dict created from files:\n",
      "  Datasets: ['bank', 'gym', 'heart', 'titanic']\n",
      "  Brier scores: [np.float64(0.1845966828222708), np.float64(0.178241845238274), np.float64(0.1066380630627618), np.float64(0.1509247744268588)]\n"
     ]
    }
   ],
   "source": [
    "# Create bayes dict from loaded data\n",
    "bayes = {\n",
    "    'dataset': ['bank', 'gym', 'heart', 'titanic'],\n",
    "    'brier_adj': bayes_brier_adj,\n",
    "    'baseline_brier': baseline_brier_scores,\n",
    "    'best_params': bayes_best_params\n",
    "}\n",
    "\n",
    "print(\"\\nBayesian Optimization dict created from files:\")\n",
    "print(f\"  Datasets: {bayes['dataset']}\")\n",
    "print(f\"  Brier scores: {bayes['brier_adj']}\")"
   ]
  },
  {
   "cell_type": "code",
   "execution_count": 17,
   "id": "do04kms9km",
   "metadata": {},
   "outputs": [
    {
     "name": "stdout",
     "output_type": "stream",
     "text": [
      "\n",
      "Subsets dict created from files:\n",
      "  Fractions: [0.25, 0.5, 0.75, 1.0]\n",
      "  Brier test scores: [0.1946584378526347, 0.1927654512941477, 0.1923118257053812, 0.1847155960056662]\n"
     ]
    }
   ],
   "source": [
    "# Create subsets dict from loaded data\n",
    "subsets = {\n",
    "    'frac': subset_fracs,\n",
    "    'brier_cv': subset_brier_cv,\n",
    "    'brier_test': subset_brier_test,\n",
    "    'best_params': subset_best_params\n",
    "}\n",
    "\n",
    "print(\"\\nSubsets dict created from files:\")\n",
    "print(f\"  Fractions: {subsets['frac']}\")\n",
    "print(f\"  Brier test scores: {subsets['brier_test']}\")"
   ]
  },
  {
   "cell_type": "markdown",
   "id": "e8456cb8",
   "metadata": {},
   "source": [
    "### Parameters already in dicts"
   ]
  },
  {
   "cell_type": "code",
   "execution_count": null,
   "id": "24a48b12",
   "metadata": {},
   "outputs": [],
   "source": [
    "random = {\n",
    "    'dataset': ['bank', 'gym', 'heart', 'titanic'],\n",
    "    'brier_adj': [0.18471559600566623, 0.17699533757920646, 0.1076035974331696, 0.14975590855325607],\n",
    "    'baseline_brier': [0.1892, 0.1819, 0.1067, 0.1520],\n",
    "    'best_params': [\n",
    "        {'criterion': 'entropy', 'max_depth': None, 'max_features': 'sqrt', 'max_samples': None, 'min_samples_leaf': 2, 'min_samples_split': 10, 'n_estimators': 1469},\n",
    "        {'criterion': 'entropy', 'max_depth': 20, 'max_features': 0.33, 'max_samples': 0.7, 'min_samples_leaf': 3, 'min_samples_split': 8, 'n_estimators': 243},\n",
    "        {'criterion': 'log_loss', 'max_depth': 10, 'max_features': 'sqrt', 'max_samples': 0.7, 'min_samples_leaf': 4, 'min_samples_split': 7, 'n_estimators': 799},\n",
    "        {'criterion': 'log_loss', 'max_depth': 10, 'max_features': 'sqrt', 'max_samples': 0.9, 'min_samples_leaf': 1, 'min_samples_split': 3, 'n_estimators': 741}\n",
    "    ]\n",
    "}"
   ]
  },
  {
   "cell_type": "code",
   "execution_count": null,
   "id": "526647c0",
   "metadata": {},
   "outputs": [],
   "source": [
    "bayes = {\n",
    "    'dataset': ['bank', 'gym', 'heart', 'titanic'],\n",
    "    'brier_adj': [0.18459668282227082, 0.17824220191293344, 0.10663801320604195, 0.15092512313815846],\n",
    "    'baseline_brier': [0.1892, 0.1819, 0.1067, 0.1520],\n",
    "    'best_params': [\n",
    "        {'n_estimators': 810, 'criterion': 'entropy', 'max_depth': None, 'min_samples_split': 18, 'min_samples_leaf': 1, 'max_features': 'sqrt', 'max_samples': None},\n",
    "        {'n_estimators': 1093, 'criterion': 'entropy', 'max_depth': 20, 'min_samples_split': 5, 'min_samples_leaf': 5, 'max_features': 'sqrt', 'max_samples': 0.9},\n",
    "        {'n_estimators': 1360, 'criterion': 'entropy', 'max_depth': None, 'min_samples_split': 10, 'min_samples_leaf': 2, 'max_features': 'sqrt', 'max_samples': 0.9},\n",
    "        {'n_estimators': 1479, 'criterion': 'entropy', 'max_depth': 10, 'min_samples_split': 7, 'min_samples_leaf': 1, 'max_features': 'sqrt', 'max_samples': None}\n",
    "    ]\n",
    "}"
   ]
  },
  {
   "cell_type": "code",
   "execution_count": null,
   "id": "51baf5f6",
   "metadata": {},
   "outputs": [],
   "source": [
    "subsets = {\n",
    "    'frac': [0.25, 0.50, 0.75, 1.00],\n",
    "    'brier_cv': [0.191777, 0.187018, 0.185161, 0.185842],\n",
    "    'brier_test': [0.194658, 0.192765, 0.192312, 0.184716],\n",
    "    'best_params': [\n",
    "        {'criterion': 'entropy', 'max_depth': None, 'max_features': 'sqrt', 'max_samples': None, 'min_samples_leaf': 2, 'min_samples_split': 10, 'n_estimators': 1469},\n",
    "        {'criterion': 'entropy', 'max_depth': None, 'max_features': 'sqrt', 'max_samples': None, 'min_samples_leaf': 2, 'min_samples_split': 10, 'n_estimators': 1469},\n",
    "        {'criterion': 'entropy', 'max_depth': None, 'max_features': 'sqrt', 'max_samples': None, 'min_samples_leaf': 2, 'min_samples_split': 10, 'n_estimators': 1469},\n",
    "        {'criterion': 'entropy', 'max_depth': None, 'max_features': 'sqrt', 'max_samples': None, 'min_samples_leaf': 2, 'min_samples_split': 10, 'n_estimators': 1469}\n",
    "    ]\n",
    "}"
   ]
  },
  {
   "cell_type": "markdown",
   "id": "0145a092",
   "metadata": {},
   "source": [
    "### Approach for establishing best hyperparameter set for RandomForest:\n",
    "1. Choose better brier score out of two hyperparameter tuning methods for each dataset\n",
    "2. Calculate median of hyperparameter values among chosen using criterium above"
   ]
  },
  {
   "cell_type": "code",
   "execution_count": 18,
   "id": "ff1fb8fc",
   "metadata": {},
   "outputs": [],
   "source": [
    "bayes_df = pd.DataFrame(bayes)\n",
    "random_df = pd.DataFrame(random)\n",
    "subsets_df = pd.DataFrame(subsets)"
   ]
  },
  {
   "cell_type": "code",
   "execution_count": 19,
   "id": "edbe5ebe",
   "metadata": {},
   "outputs": [
    {
     "data": {
      "text/html": [
       "<div>\n",
       "<style scoped>\n",
       "    .dataframe tbody tr th:only-of-type {\n",
       "        vertical-align: middle;\n",
       "    }\n",
       "\n",
       "    .dataframe tbody tr th {\n",
       "        vertical-align: top;\n",
       "    }\n",
       "\n",
       "    .dataframe thead th {\n",
       "        text-align: right;\n",
       "    }\n",
       "</style>\n",
       "<table border=\"1\" class=\"dataframe\">\n",
       "  <thead>\n",
       "    <tr style=\"text-align: right;\">\n",
       "      <th></th>\n",
       "      <th>frac</th>\n",
       "      <th>brier_cv</th>\n",
       "      <th>brier_test</th>\n",
       "      <th>best_params</th>\n",
       "    </tr>\n",
       "  </thead>\n",
       "  <tbody>\n",
       "    <tr>\n",
       "      <th>0</th>\n",
       "      <td>0.25</td>\n",
       "      <td>0.191777</td>\n",
       "      <td>0.194658</td>\n",
       "      <td>{'criterion': 'entropy', 'max_depth': None, 'm...</td>\n",
       "    </tr>\n",
       "    <tr>\n",
       "      <th>1</th>\n",
       "      <td>0.50</td>\n",
       "      <td>0.187018</td>\n",
       "      <td>0.192765</td>\n",
       "      <td>{'criterion': 'entropy', 'max_depth': None, 'm...</td>\n",
       "    </tr>\n",
       "    <tr>\n",
       "      <th>2</th>\n",
       "      <td>0.75</td>\n",
       "      <td>0.185161</td>\n",
       "      <td>0.192312</td>\n",
       "      <td>{'criterion': 'entropy', 'max_depth': None, 'm...</td>\n",
       "    </tr>\n",
       "    <tr>\n",
       "      <th>3</th>\n",
       "      <td>1.00</td>\n",
       "      <td>0.185842</td>\n",
       "      <td>0.184716</td>\n",
       "      <td>{'criterion': 'entropy', 'max_depth': None, 'm...</td>\n",
       "    </tr>\n",
       "  </tbody>\n",
       "</table>\n",
       "</div>"
      ],
      "text/plain": [
       "   frac  brier_cv  brier_test  \\\n",
       "0  0.25  0.191777    0.194658   \n",
       "1  0.50  0.187018    0.192765   \n",
       "2  0.75  0.185161    0.192312   \n",
       "3  1.00  0.185842    0.184716   \n",
       "\n",
       "                                         best_params  \n",
       "0  {'criterion': 'entropy', 'max_depth': None, 'm...  \n",
       "1  {'criterion': 'entropy', 'max_depth': None, 'm...  \n",
       "2  {'criterion': 'entropy', 'max_depth': None, 'm...  \n",
       "3  {'criterion': 'entropy', 'max_depth': None, 'm...  "
      ]
     },
     "execution_count": 19,
     "metadata": {},
     "output_type": "execute_result"
    }
   ],
   "source": [
    "subsets_df"
   ]
  },
  {
   "cell_type": "code",
   "execution_count": 20,
   "id": "f3f67bdc",
   "metadata": {},
   "outputs": [
    {
     "data": {
      "text/plain": [
       "Index(['dataset', 'brier_adj', 'baseline_brier', 'best_params'], dtype='object')"
      ]
     },
     "execution_count": 20,
     "metadata": {},
     "output_type": "execute_result"
    }
   ],
   "source": [
    "bayes_df.columns"
   ]
  },
  {
   "cell_type": "code",
   "execution_count": 21,
   "id": "c3454378",
   "metadata": {},
   "outputs": [],
   "source": [
    "best_params = np.where(\n",
    "    bayes_df['brier_adj'] < random_df['brier_adj'],\n",
    "    bayes_df['best_params'],\n",
    "    random_df['best_params']\n",
    ")"
   ]
  },
  {
   "cell_type": "code",
   "execution_count": 22,
   "id": "df55a908",
   "metadata": {},
   "outputs": [
    {
     "data": {
      "text/plain": [
       "array([{'n_estimators': 810, 'criterion': 'entropy', 'max_depth': None, 'min_samples_split': 18, 'min_samples_leaf': 1, 'max_features': 'sqrt', 'max_samples': None},\n",
       "       {'criterion': 'entropy', 'max_depth': 20, 'max_features': 0.33, 'max_samples': 0.7, 'min_samples_leaf': 3, 'min_samples_split': 8, 'n_estimators': 243},\n",
       "       {'n_estimators': 1360, 'criterion': 'entropy', 'max_depth': None, 'min_samples_split': 10, 'min_samples_leaf': 2, 'max_features': 'sqrt', 'max_samples': 0.9},\n",
       "       {'criterion': 'log_loss', 'max_depth': 10, 'max_features': 'sqrt', 'max_samples': 0.9, 'min_samples_leaf': 1, 'min_samples_split': 3, 'n_estimators': 741}],\n",
       "      dtype=object)"
      ]
     },
     "execution_count": 22,
     "metadata": {},
     "output_type": "execute_result"
    }
   ],
   "source": [
    "best_params"
   ]
  },
  {
   "cell_type": "code",
   "execution_count": 23,
   "id": "59a54210",
   "metadata": {},
   "outputs": [],
   "source": [
    "best_params_list = list(best_params)"
   ]
  },
  {
   "cell_type": "code",
   "execution_count": 24,
   "id": "19717ac8",
   "metadata": {},
   "outputs": [],
   "source": [
    "median_params = pd.DataFrame(best_params_list).median(numeric_only=True).to_dict()"
   ]
  },
  {
   "cell_type": "code",
   "execution_count": 25,
   "id": "cefd1615",
   "metadata": {},
   "outputs": [
    {
     "name": "stdout",
     "output_type": "stream",
     "text": [
      "{'n_estimators': 776, 'max_depth': 15, 'min_samples_split': 9, 'min_samples_leaf': 2, 'max_samples': 0.9}\n"
     ]
    }
   ],
   "source": [
    "int_params = ['max_depth', 'min_samples_leaf', 'n_estimators', 'min_samples_split']\n",
    "\n",
    "for param in int_params:\n",
    "    if param in median_params:\n",
    "        median_params[param] = int(round(median_params[param]))\n",
    "\n",
    "print(median_params)"
   ]
  },
  {
   "cell_type": "markdown",
   "id": "f9a6d9c7",
   "metadata": {},
   "source": [
    "#### Preparing data to check result of analysis"
   ]
  },
  {
   "cell_type": "code",
   "execution_count": 26,
   "id": "4b73068d",
   "metadata": {},
   "outputs": [],
   "source": [
    "X1 = pd.read_csv(\"preprocessed_datasets/bank_data.csv\")\n",
    "y1 = pd.read_csv(\"preprocessed_datasets/bank_target.csv\").squeeze()\n",
    "X2 = pd.read_csv(\"preprocessed_datasets/gym_data.csv\")\n",
    "y2 = pd.read_csv(\"preprocessed_datasets/gym_target.csv\").squeeze()\n",
    "X3 = pd.read_csv(\"preprocessed_datasets/heartDisease_data.csv\")\n",
    "y3 = pd.read_csv(\"preprocessed_datasets/heartDisease_target.csv\").squeeze()\n",
    "X4 = pd.read_csv(\"preprocessed_datasets/titanic_data.csv\")\n",
    "y4 = pd.read_csv(\"preprocessed_datasets/titanic_target.csv\").squeeze()"
   ]
  },
  {
   "cell_type": "code",
   "execution_count": 27,
   "id": "5da7581f",
   "metadata": {},
   "outputs": [],
   "source": [
    "X1_train, X1_test, y1_train, y1_test = train_test_split(X1, y1, test_size=0.2, random_state=42, stratify=y1)\n",
    "X2_train, X2_test, y2_train, y2_test = train_test_split(X2, y2, test_size=0.2, random_state=42, stratify=y2)\n",
    "X3_train, X3_test, y3_train, y3_test = train_test_split(X3, y3, test_size=0.2, random_state=42, stratify=y3)\n",
    "X4_train, X4_test, y4_train, y4_test = train_test_split(X4, y4, test_size=0.2, random_state=42, stratify=y4)"
   ]
  },
  {
   "cell_type": "markdown",
   "id": "dc7fdcd7",
   "metadata": {},
   "source": [
    "#### Training model on new hyperparameters and comparing with default set"
   ]
  },
  {
   "cell_type": "code",
   "execution_count": 28,
   "id": "938b96a1",
   "metadata": {},
   "outputs": [],
   "source": [
    "datasets = [(X1_train, X1_test, y1_train, y1_test),\n",
    "            (X2_train, X2_test, y2_train, y2_test),\n",
    "            (X3_train, X3_test, y3_train, y3_test),\n",
    "            (X4_train, X4_test, y4_train, y4_test)]"
   ]
  },
  {
   "cell_type": "code",
   "execution_count": 29,
   "id": "06681ebf",
   "metadata": {},
   "outputs": [
    {
     "name": "stdout",
     "output_type": "stream",
     "text": [
      "  dataset  baseline_brier  new_brier  improvement\n",
      "0      X1        0.189193   0.186268     0.002925\n",
      "1      X2        0.181900   0.178457     0.003443\n",
      "2      X3        0.106674   0.108188    -0.001514\n",
      "3      X4        0.152039   0.150942     0.001098\n"
     ]
    }
   ],
   "source": [
    "results = []\n",
    "RANDOM_STATE = 42\n",
    "for i, (X_train, X_test, y_train, y_test) in enumerate(datasets, start=1):\n",
    "    baseline_model = RandomForestClassifier(random_state=RANDOM_STATE)\n",
    "    baseline_model.fit(X_train, y_train)\n",
    "    y_prob_baseline = baseline_model.predict_proba(X_test)[:, 1] \n",
    "    baseline_brier = brier_score_loss(y_test, y_prob_baseline)\n",
    "\n",
    "    model = RandomForestClassifier(**median_params, random_state=RANDOM_STATE)\n",
    "    model.fit(X_train, y_train)\n",
    "    y_prob_new = model.predict_proba(X_test)[:, 1]\n",
    "    new_brier = brier_score_loss(y_test, y_prob_new)\n",
    "    \n",
    "    results.append({\n",
    "        'dataset': f'X{i}',\n",
    "        'baseline_brier': baseline_brier,\n",
    "        'new_brier': new_brier,\n",
    "        'improvement': baseline_brier - new_brier \n",
    "    })\n",
    "\n",
    "results_df = pd.DataFrame(results)\n",
    "print(results_df)"
   ]
  },
  {
   "cell_type": "markdown",
   "id": "bb4d5146",
   "metadata": {},
   "source": [
    "#### There is improvement in 3 out of 4 datasets, the changes are minuscule."
   ]
  },
  {
   "cell_type": "code",
   "execution_count": 30,
   "id": "e440db8b",
   "metadata": {},
   "outputs": [
    {
     "name": "stdout",
     "output_type": "stream",
     "text": [
      "  dataset  baseline_brier  new_brier  improvement\n",
      "0      X1        0.189193   0.186268     0.002925\n",
      "1      X2        0.181900   0.178457     0.003443\n",
      "2      X3        0.106674   0.108188    -0.001514\n",
      "3      X4        0.152039   0.150942     0.001098\n"
     ]
    }
   ],
   "source": [
    "print(results_df)"
   ]
  },
  {
   "cell_type": "code",
   "execution_count": 31,
   "id": "55bfdb16",
   "metadata": {},
   "outputs": [
    {
     "name": "stdout",
     "output_type": "stream",
     "text": [
      "Mean difference: 0.001488\n",
      "Median difference: 0.002011\n",
      "Std of difference: 0.002240\n",
      "Percentage of configurations better than baseline by > 0.001: 75.0%\n"
     ]
    },
    {
     "data": {
      "image/png": "[encoded data removed]",
      "text/plain": [
       "<Figure size 640x480 with 1 Axes>"
      ]
     },
     "metadata": {},
     "output_type": "display_data"
    }
   ],
   "source": [
    "diff = results_df['improvement']\n",
    "\n",
    "mean_diff = diff.mean()\n",
    "median_diff = diff.median()\n",
    "std_diff = diff.std()\n",
    "epsilon = 0.001 \n",
    "pct_better = (diff > epsilon).mean() * 100\n",
    "\n",
    "print(f\"Mean difference: {mean_diff:.6f}\")\n",
    "print(f\"Median difference: {median_diff:.6f}\")\n",
    "print(f\"Std of difference: {std_diff:.6f}\")\n",
    "print(f\"Percentage of configurations better than baseline by > {epsilon}: {pct_better:.1f}%\")\n",
    "\n",
    "sns.boxplot(x=diff)\n",
    "plt.title(\"Boxplot of differences\")\n",
    "plt.xlabel(\"Difference in Brier score\")\n",
    "plt.show()"
   ]
  },
  {
   "cell_type": "markdown",
   "id": "ee79612b",
   "metadata": {},
   "source": [
    "### Analysis of distributions of brier score based on tuning on different dataset sizes"
   ]
  },
  {
   "cell_type": "code",
   "execution_count": 32,
   "id": "f89da405",
   "metadata": {},
   "outputs": [],
   "source": [
    "fractions = subsets_df[\"frac\"]\n",
    "brier_test = subsets_df[\"brier_test\"]"
   ]
  },
  {
   "cell_type": "code",
   "execution_count": 33,
   "id": "23f3f840",
   "metadata": {},
   "outputs": [
    {
     "name": "stdout",
     "output_type": "stream",
     "text": [
      "   frac  delta_brier\n",
      "0  0.25     0.009943\n",
      "1  0.50     0.008050\n",
      "2  0.75     0.007596\n",
      "3  1.00     0.000000\n"
     ]
    }
   ],
   "source": [
    "ref_brier = subsets_df.loc[subsets_df['frac']==1.0, 'brier_test'].values[0]\n",
    "subsets_df['delta_brier'] = subsets_df['brier_test'] - ref_brier\n",
    "print(subsets_df[['frac', 'delta_brier']])"
   ]
  },
  {
   "cell_type": "code",
   "execution_count": 34,
   "id": "b56e3cd0",
   "metadata": {},
   "outputs": [
    {
     "data": {
      "image/png": "[encoded data removed]",
      "text/plain": [
       "<Figure size 640x480 with 1 Axes>"
      ]
     },
     "metadata": {},
     "output_type": "display_data"
    }
   ],
   "source": [
    "x_labels = subsets_df['frac'].astype(str)\n",
    "\n",
    "plt.bar(x_labels, subsets_df['delta_brier'], color='skyblue')\n",
    "plt.xlabel('Fraction of data used')\n",
    "plt.ylabel('Delta Brier vs full dataset')\n",
    "plt.title('Difference from full dataset performance')\n",
    "plt.show()"
   ]
  },
  {
   "cell_type": "markdown",
   "id": "163e6c2a",
   "metadata": {},
   "source": [
    "**On these data less data = worse score. It is something that seems logical**"
   ]
  },
  {
   "cell_type": "markdown",
   "id": "8917279b",
   "metadata": {},
   "source": [
    "### Comparison of sampling methods - is there biased sampling?"
   ]
  },
  {
   "cell_type": "code",
   "execution_count": 35,
   "id": "292777f0",
   "metadata": {},
   "outputs": [
    {
     "data": {
      "image/png": "[encoded data removed]",
      "text/plain": [
       "<Figure size 800x500 with 1 Axes>"
      ]
     },
     "metadata": {},
     "output_type": "display_data"
    }
   ],
   "source": [
    "bayes_df['improvement'] = bayes_df['baseline_brier'] - bayes_df['brier_adj']\n",
    "random_df['improvement'] = random_df['baseline_brier'] - random_df['brier_adj']\n",
    "\n",
    "plot_df = pd.DataFrame({\n",
    "    'dataset': bayes_df['dataset'],\n",
    "    'Bayes': bayes_df['improvement'],\n",
    "    'Random': random_df['improvement']\n",
    "})\n",
    "\n",
    "x = np.arange(len(plot_df['dataset'])) \n",
    "width = 0.35 \n",
    "\n",
    "fig, ax = plt.subplots(figsize=(8,5))\n",
    "ax.bar(x - width/2, plot_df['Bayes'], width, label='Bayes')\n",
    "ax.bar(x + width/2, plot_df['Random'], width, label='Random')\n",
    "\n",
    "ax.set_xlabel('Dataset')\n",
    "ax.set_ylabel('Brier score improvement (baseline - best)')\n",
    "ax.set_title('Porównanie poprawy Brier score: Bayes vs Random')\n",
    "ax.set_xticks(x)\n",
    "ax.set_xticklabels(plot_df['dataset'])\n",
    "ax.legend()\n",
    "plt.show()"
   ]
  },
  {
   "cell_type": "markdown",
   "id": "76ad362c",
   "metadata": {},
   "source": [
    "##### Statistical test to indicate whether there is significant difference between those groups\n",
    "For all 12 observations - 4 datasets and 3 algorithms make this test: TODO (Janek dodaj wektory brier)\n",
    "\n",
    "Wilcoxon test:\n",
    "\n",
    "H0: no difference between methods\n",
    "\n",
    "H1: there is significant difference between methods"
   ]
  },
  {
   "cell_type": "code",
   "execution_count": 42,
   "id": "f2aff706",
   "metadata": {},
   "outputs": [],
   "source": [
    "brier_random_svc = [0.1893, 0.1676, 0.1085, 0.1645]\n",
    "\n",
    "bayes_brier_svc = [0.187609, 0.139217, 0.133284, 0.122124]\n",
    "\n",
    "brier_random_gbm = [0.18111966687301606, 0.17634326427209, 0.09262259701874374, 0.15942538000177728]\n",
    "\n",
    "bayes_brier_gbm = [0.18122801197098, 0.17641367844845726, 0.09400881135862903, 0.15707694668742653]\n",
    "\n",
    "bayes_brier_rf = [0.1845966828222708, 0.178241845238274, 0.1066380630627618, 0.1509247744268588]\n",
    "\n",
    "random_brier_rf = [0.1847155960056662, 0.1769953375792064, 0.1076035974331696, 0.149755908553256]"
   ]
  },
  {
   "cell_type": "code",
   "execution_count": 43,
   "id": "bb749dde",
   "metadata": {},
   "outputs": [],
   "source": [
    "all_random = brier_random_gbm + brier_random_svc + random_brier_rf\n",
    "all_bayes = bayes_brier_gbm + bayes_brier_svc + bayes_brier_rf"
   ]
  },
  {
   "cell_type": "code",
   "execution_count": 44,
   "id": "2ffe3d61",
   "metadata": {},
   "outputs": [
    {
     "name": "stdout",
     "output_type": "stream",
     "text": [
      "Wilcoxon statistic: 31.0000, p-value: 0.5693\n"
     ]
    }
   ],
   "source": [
    "stat, p_value = wilcoxon(all_random, all_bayes, method = \"exact\")\n",
    "print(f\"Wilcoxon statistic: {stat:.4f}, p-value: {p_value:.4f}\")"
   ]
  },
  {
   "cell_type": "code",
   "execution_count": 45,
   "id": "5c136e86",
   "metadata": {},
   "outputs": [
    {
     "name": "stdout",
     "output_type": "stream",
     "text": [
      "Średnia różnica (Random - Bayes): 0.003926544476772253\n"
     ]
    }
   ],
   "source": [
    "diff = np.array(all_random) - np.array(all_bayes)\n",
    "print(\"Średnia różnica (Random - Bayes):\", np.mean(diff))"
   ]
  }
 ],
 "metadata": {
  "kernelspec": {
   "display_name": "automl1",
   "language": "python",
   "name": "python3"
  },
  "language_info": {
   "codemirror_mode": {
    "name": "ipython",
    "version": 3
   },
   "file_extension": ".py",
   "mimetype": "text/x-python",
   "name": "python",
   "nbconvert_exporter": "python",
   "pygments_lexer": "ipython3",
   "version": "3.13.0"
  }
 },
 "nbformat": 4,
 "nbformat_minor": 5
}
